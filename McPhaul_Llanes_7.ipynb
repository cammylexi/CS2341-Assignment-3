{
  "cells": [
    {
      "cell_type": "markdown",
      "metadata": {
        "id": "view-in-github",
        "colab_type": "text"
      },
      "source": [
        "<a href=\"https://colab.research.google.com/github/cammylexi/CS2341-Assignment-3/blob/main/McPhaul_Llanes_7.ipynb\" target=\"_parent\"><img src=\"https://colab.research.google.com/assets/colab-badge.svg\" alt=\"Open In Colab\"/></a>"
      ]
    },
    {
      "cell_type": "markdown",
      "metadata": {
        "id": "X7j7_W5t673h"
      },
      "source": [
        "*  Camryn McPhaul\n",
        "*  Michael Llanes"
      ]
    },
    {
      "cell_type": "code",
      "execution_count": null,
      "metadata": {
        "id": "umh0IN4-b1wq"
      },
      "outputs": [],
      "source": [
        "def clear_memory():\n",
        "    \"\"\"Clear memory to prevent OOM errors\"\"\"\n",
        "    gc.collect()\n",
        "    tf.keras.backend.clear_session()"
      ]
    },
    {
      "cell_type": "markdown",
      "metadata": {
        "id": "tRTb5uT98e-_"
      },
      "source": [
        "# Preparation"
      ]
    },
    {
      "cell_type": "markdown",
      "metadata": {
        "id": "G4Khu6LG2SjO"
      },
      "source": [
        "## Class Variables and Preprocessing\n",
        "\n",
        "The task is binary sentiment classification of IMDB movie reviews. Each review is labeled as either \"positive\" or \"negative\", which we have mapped to 1 and 0 respectively.\n",
        "\n",
        "#### Preprocessing Steps:\n",
        "- Converted sentiment labels to integers.\n",
        "- Removed HTML tags from the review texts.\n",
        "- Checked class balance and missing values.\n",
        "\n",
        "#### Final Dataset Overview:\n",
        "- Total samples: 50,000\n",
        "- Class distribution:\n",
        "  - Positive: 50%\n",
        "  - Negative: 50%\n",
        "- No missing values.\n",
        "\n",
        "#### Tokenization and Sequence Padding\n",
        "For the sequential model, we used Keras' Tokenizer to convert the text of each review into a sequence of integers. Each word in the review is mapped to a unique integer based on its frequency in the dataset.\n",
        "To ensure uniform input length, we pad or truncate sequences to a fixed length (here: 200 tokens).  If a review has fewer than 200 words, we use paddling, which adds zeros at the end to make it 200 tokens long. Then use truncation if a review has more than 200 words, we cut it down to the first 200 tokens.\n",
        "This process makes the model input \"many-to-one\": each sequence (review) is mapped to a single sentiment label.\n"
      ]
    },
    {
      "cell_type": "code",
      "execution_count": null,
      "metadata": {
        "colab": {
          "base_uri": "https://localhost:8080/"
        },
        "id": "kTbKWiA_497D",
        "outputId": "9a5fecbd-4030-4e77-f284-da1915db6497"
      },
      "outputs": [
        {
          "output_type": "stream",
          "name": "stdout",
          "text": [
            "Path to dataset files: /kaggle/input/imdb-dataset-of-50k-movie-reviews\n"
          ]
        }
      ],
      "source": [
        "import kagglehub\n",
        "\n",
        "# Download latest version\n",
        "path = kagglehub.dataset_download(\"lakshmi25npathi/imdb-dataset-of-50k-movie-reviews\")\n",
        "\n",
        "print(\"Path to dataset files:\", path)"
      ]
    },
    {
      "cell_type": "code",
      "execution_count": null,
      "metadata": {
        "colab": {
          "base_uri": "https://localhost:8080/",
          "height": 206
        },
        "id": "d27LMtnO7rG4",
        "outputId": "be79d2cf-7e91-4370-9587-e821d3f01753"
      },
      "outputs": [
        {
          "output_type": "execute_result",
          "data": {
            "text/plain": [
              "                                              review  sentiment\n",
              "0  One of the other reviewers has mentioned that ...          1\n",
              "1  A wonderful little production. The filming tec...          1\n",
              "2  I thought this was a wonderful way to spend ti...          1\n",
              "3  Basically there's a family where a little boy ...          0\n",
              "4  Petter Mattei's \"Love in the Time of Money\" is...          1"
            ],
            "text/html": [
              "\n",
              "  <div id=\"df-997593a2-d06d-497f-bbe8-f3b6bf29e413\" class=\"colab-df-container\">\n",
              "    <div>\n",
              "<style scoped>\n",
              "    .dataframe tbody tr th:only-of-type {\n",
              "        vertical-align: middle;\n",
              "    }\n",
              "\n",
              "    .dataframe tbody tr th {\n",
              "        vertical-align: top;\n",
              "    }\n",
              "\n",
              "    .dataframe thead th {\n",
              "        text-align: right;\n",
              "    }\n",
              "</style>\n",
              "<table border=\"1\" class=\"dataframe\">\n",
              "  <thead>\n",
              "    <tr style=\"text-align: right;\">\n",
              "      <th></th>\n",
              "      <th>review</th>\n",
              "      <th>sentiment</th>\n",
              "    </tr>\n",
              "  </thead>\n",
              "  <tbody>\n",
              "    <tr>\n",
              "      <th>0</th>\n",
              "      <td>One of the other reviewers has mentioned that ...</td>\n",
              "      <td>1</td>\n",
              "    </tr>\n",
              "    <tr>\n",
              "      <th>1</th>\n",
              "      <td>A wonderful little production. The filming tec...</td>\n",
              "      <td>1</td>\n",
              "    </tr>\n",
              "    <tr>\n",
              "      <th>2</th>\n",
              "      <td>I thought this was a wonderful way to spend ti...</td>\n",
              "      <td>1</td>\n",
              "    </tr>\n",
              "    <tr>\n",
              "      <th>3</th>\n",
              "      <td>Basically there's a family where a little boy ...</td>\n",
              "      <td>0</td>\n",
              "    </tr>\n",
              "    <tr>\n",
              "      <th>4</th>\n",
              "      <td>Petter Mattei's \"Love in the Time of Money\" is...</td>\n",
              "      <td>1</td>\n",
              "    </tr>\n",
              "  </tbody>\n",
              "</table>\n",
              "</div>\n",
              "    <div class=\"colab-df-buttons\">\n",
              "\n",
              "  <div class=\"colab-df-container\">\n",
              "    <button class=\"colab-df-convert\" onclick=\"convertToInteractive('df-997593a2-d06d-497f-bbe8-f3b6bf29e413')\"\n",
              "            title=\"Convert this dataframe to an interactive table.\"\n",
              "            style=\"display:none;\">\n",
              "\n",
              "  <svg xmlns=\"http://www.w3.org/2000/svg\" height=\"24px\" viewBox=\"0 -960 960 960\">\n",
              "    <path d=\"M120-120v-720h720v720H120Zm60-500h600v-160H180v160Zm220 220h160v-160H400v160Zm0 220h160v-160H400v160ZM180-400h160v-160H180v160Zm440 0h160v-160H620v160ZM180-180h160v-160H180v160Zm440 0h160v-160H620v160Z\"/>\n",
              "  </svg>\n",
              "    </button>\n",
              "\n",
              "  <style>\n",
              "    .colab-df-container {\n",
              "      display:flex;\n",
              "      gap: 12px;\n",
              "    }\n",
              "\n",
              "    .colab-df-convert {\n",
              "      background-color: #E8F0FE;\n",
              "      border: none;\n",
              "      border-radius: 50%;\n",
              "      cursor: pointer;\n",
              "      display: none;\n",
              "      fill: #1967D2;\n",
              "      height: 32px;\n",
              "      padding: 0 0 0 0;\n",
              "      width: 32px;\n",
              "    }\n",
              "\n",
              "    .colab-df-convert:hover {\n",
              "      background-color: #E2EBFA;\n",
              "      box-shadow: 0px 1px 2px rgba(60, 64, 67, 0.3), 0px 1px 3px 1px rgba(60, 64, 67, 0.15);\n",
              "      fill: #174EA6;\n",
              "    }\n",
              "\n",
              "    .colab-df-buttons div {\n",
              "      margin-bottom: 4px;\n",
              "    }\n",
              "\n",
              "    [theme=dark] .colab-df-convert {\n",
              "      background-color: #3B4455;\n",
              "      fill: #D2E3FC;\n",
              "    }\n",
              "\n",
              "    [theme=dark] .colab-df-convert:hover {\n",
              "      background-color: #434B5C;\n",
              "      box-shadow: 0px 1px 3px 1px rgba(0, 0, 0, 0.15);\n",
              "      filter: drop-shadow(0px 1px 2px rgba(0, 0, 0, 0.3));\n",
              "      fill: #FFFFFF;\n",
              "    }\n",
              "  </style>\n",
              "\n",
              "    <script>\n",
              "      const buttonEl =\n",
              "        document.querySelector('#df-997593a2-d06d-497f-bbe8-f3b6bf29e413 button.colab-df-convert');\n",
              "      buttonEl.style.display =\n",
              "        google.colab.kernel.accessAllowed ? 'block' : 'none';\n",
              "\n",
              "      async function convertToInteractive(key) {\n",
              "        const element = document.querySelector('#df-997593a2-d06d-497f-bbe8-f3b6bf29e413');\n",
              "        const dataTable =\n",
              "          await google.colab.kernel.invokeFunction('convertToInteractive',\n",
              "                                                    [key], {});\n",
              "        if (!dataTable) return;\n",
              "\n",
              "        const docLinkHtml = 'Like what you see? Visit the ' +\n",
              "          '<a target=\"_blank\" href=https://colab.research.google.com/notebooks/data_table.ipynb>data table notebook</a>'\n",
              "          + ' to learn more about interactive tables.';\n",
              "        element.innerHTML = '';\n",
              "        dataTable['output_type'] = 'display_data';\n",
              "        await google.colab.output.renderOutput(dataTable, element);\n",
              "        const docLink = document.createElement('div');\n",
              "        docLink.innerHTML = docLinkHtml;\n",
              "        element.appendChild(docLink);\n",
              "      }\n",
              "    </script>\n",
              "  </div>\n",
              "\n",
              "\n",
              "    <div id=\"df-eb3d4d68-a033-4a16-b92e-67f9300352d1\">\n",
              "      <button class=\"colab-df-quickchart\" onclick=\"quickchart('df-eb3d4d68-a033-4a16-b92e-67f9300352d1')\"\n",
              "                title=\"Suggest charts\"\n",
              "                style=\"display:none;\">\n",
              "\n",
              "<svg xmlns=\"http://www.w3.org/2000/svg\" height=\"24px\"viewBox=\"0 0 24 24\"\n",
              "     width=\"24px\">\n",
              "    <g>\n",
              "        <path d=\"M19 3H5c-1.1 0-2 .9-2 2v14c0 1.1.9 2 2 2h14c1.1 0 2-.9 2-2V5c0-1.1-.9-2-2-2zM9 17H7v-7h2v7zm4 0h-2V7h2v10zm4 0h-2v-4h2v4z\"/>\n",
              "    </g>\n",
              "</svg>\n",
              "      </button>\n",
              "\n",
              "<style>\n",
              "  .colab-df-quickchart {\n",
              "      --bg-color: #E8F0FE;\n",
              "      --fill-color: #1967D2;\n",
              "      --hover-bg-color: #E2EBFA;\n",
              "      --hover-fill-color: #174EA6;\n",
              "      --disabled-fill-color: #AAA;\n",
              "      --disabled-bg-color: #DDD;\n",
              "  }\n",
              "\n",
              "  [theme=dark] .colab-df-quickchart {\n",
              "      --bg-color: #3B4455;\n",
              "      --fill-color: #D2E3FC;\n",
              "      --hover-bg-color: #434B5C;\n",
              "      --hover-fill-color: #FFFFFF;\n",
              "      --disabled-bg-color: #3B4455;\n",
              "      --disabled-fill-color: #666;\n",
              "  }\n",
              "\n",
              "  .colab-df-quickchart {\n",
              "    background-color: var(--bg-color);\n",
              "    border: none;\n",
              "    border-radius: 50%;\n",
              "    cursor: pointer;\n",
              "    display: none;\n",
              "    fill: var(--fill-color);\n",
              "    height: 32px;\n",
              "    padding: 0;\n",
              "    width: 32px;\n",
              "  }\n",
              "\n",
              "  .colab-df-quickchart:hover {\n",
              "    background-color: var(--hover-bg-color);\n",
              "    box-shadow: 0 1px 2px rgba(60, 64, 67, 0.3), 0 1px 3px 1px rgba(60, 64, 67, 0.15);\n",
              "    fill: var(--button-hover-fill-color);\n",
              "  }\n",
              "\n",
              "  .colab-df-quickchart-complete:disabled,\n",
              "  .colab-df-quickchart-complete:disabled:hover {\n",
              "    background-color: var(--disabled-bg-color);\n",
              "    fill: var(--disabled-fill-color);\n",
              "    box-shadow: none;\n",
              "  }\n",
              "\n",
              "  .colab-df-spinner {\n",
              "    border: 2px solid var(--fill-color);\n",
              "    border-color: transparent;\n",
              "    border-bottom-color: var(--fill-color);\n",
              "    animation:\n",
              "      spin 1s steps(1) infinite;\n",
              "  }\n",
              "\n",
              "  @keyframes spin {\n",
              "    0% {\n",
              "      border-color: transparent;\n",
              "      border-bottom-color: var(--fill-color);\n",
              "      border-left-color: var(--fill-color);\n",
              "    }\n",
              "    20% {\n",
              "      border-color: transparent;\n",
              "      border-left-color: var(--fill-color);\n",
              "      border-top-color: var(--fill-color);\n",
              "    }\n",
              "    30% {\n",
              "      border-color: transparent;\n",
              "      border-left-color: var(--fill-color);\n",
              "      border-top-color: var(--fill-color);\n",
              "      border-right-color: var(--fill-color);\n",
              "    }\n",
              "    40% {\n",
              "      border-color: transparent;\n",
              "      border-right-color: var(--fill-color);\n",
              "      border-top-color: var(--fill-color);\n",
              "    }\n",
              "    60% {\n",
              "      border-color: transparent;\n",
              "      border-right-color: var(--fill-color);\n",
              "    }\n",
              "    80% {\n",
              "      border-color: transparent;\n",
              "      border-right-color: var(--fill-color);\n",
              "      border-bottom-color: var(--fill-color);\n",
              "    }\n",
              "    90% {\n",
              "      border-color: transparent;\n",
              "      border-bottom-color: var(--fill-color);\n",
              "    }\n",
              "  }\n",
              "</style>\n",
              "\n",
              "      <script>\n",
              "        async function quickchart(key) {\n",
              "          const quickchartButtonEl =\n",
              "            document.querySelector('#' + key + ' button');\n",
              "          quickchartButtonEl.disabled = true;  // To prevent multiple clicks.\n",
              "          quickchartButtonEl.classList.add('colab-df-spinner');\n",
              "          try {\n",
              "            const charts = await google.colab.kernel.invokeFunction(\n",
              "                'suggestCharts', [key], {});\n",
              "          } catch (error) {\n",
              "            console.error('Error during call to suggestCharts:', error);\n",
              "          }\n",
              "          quickchartButtonEl.classList.remove('colab-df-spinner');\n",
              "          quickchartButtonEl.classList.add('colab-df-quickchart-complete');\n",
              "        }\n",
              "        (() => {\n",
              "          let quickchartButtonEl =\n",
              "            document.querySelector('#df-eb3d4d68-a033-4a16-b92e-67f9300352d1 button');\n",
              "          quickchartButtonEl.style.display =\n",
              "            google.colab.kernel.accessAllowed ? 'block' : 'none';\n",
              "        })();\n",
              "      </script>\n",
              "    </div>\n",
              "\n",
              "    </div>\n",
              "  </div>\n"
            ],
            "application/vnd.google.colaboratory.intrinsic+json": {
              "type": "dataframe",
              "variable_name": "df",
              "summary": "{\n  \"name\": \"df\",\n  \"rows\": 50000,\n  \"fields\": [\n    {\n      \"column\": \"review\",\n      \"properties\": {\n        \"dtype\": \"string\",\n        \"num_unique_values\": 49581,\n        \"samples\": [\n          \"Poorly done political actioner. Badly photographed, acted, and directed. Every single scene is underlighted, including those very few that are shot during the daytime. It doesn't matter what the location is. At an important conference in the White House, no lights are on, and the only available lighting is a gloomy blue that is filtered through a few windows. The primier of China conducts an earth-shattering phone conversation under conditions of such intense chiaroscuro that he should be contemplating a bust of Homer in a Rembrandt painting. Honest. It's as if he had a tiny spotlight on his face and was otherwise in total darkness. The slow motion deaths are by now obligatory in any ill-thought-out movie.Roy Scheider and Maria Conchita Alonzo do well by their roles, but Scheider is rarely on screen. The other performances are dismissable. There is a pretty Oriental woman in a short tight skirt who totes a gun and is right out of a Bond movie who's accent suggests a childhood spent in Basset, Nebraska, and who should have remained the model she probably started out as. Whoever plays the surviving Secret Service agent aboard the cruise ship was probably picked for the part because he looked most like Johnny Depp, not because of any display of talent. The Chinese villains, representing both Taiwan and mainland China, hiss and grin as they threaten the heroes. The script is pretty awful, recycled from other, better films. There is a lot of shooting aboard the ship and practically everyone winds up mincemeat. Two thirds of the way through, the ship explodes into the expected series of fireballs. Then the movie splits into two related parts. Part one, another shootout, this time in a waterfront warehouse. Part two, an exchange between the Vice President, now acting president, and the oily Chinese premiere, lifted out of both \\\"Dr. Strangelove\\\" and \\\"Fail Safe.\\\" We unwittingly launch our missiles. They launch theirs in retaliation. We cannot convince them that our launch was accidental, even though we offer to help them destroy our own missiles. There is even the George C. Scott/ Walter Matthau general who argues that their \\\"nucular\\\" armory can't match ours so we should hit them with everything we've got. More fireballs. The end comes none too soon.\",\n          \"In Sri Lanka, a country divided by religion and language, the civil war between the pro-Sinhalese government and the Liberation Tigers of Tamil Eelam (LTTE), a separatist organization, has claimed an estimated 68,000 lives since 1983. Human rights groups have said that, as a result of the war, more than one million people have been displaced, homeless or living in camps. The impact on children and families caught in the conflict is sensitively dramatized by acclaimed Tamil director Mani Ratnam in his 2002 film A Peck on the Cheek, winner of several awards at the National Film Awards in India. While the civil war is merely a backdrop for the story of a young girl's voyage of discovery, the human cost of war is made quite clear and Ratnam gives the fighting a universal context, pointing the finger at global arms traffickers as the source of wrongdoing.Beautifully photographed in Southern India by cinematographer Ravi K Chandran in a setting mirroring the terrain of Sri Lanka, the film tells a moving story about an adopted 9-year old girl who sets out to find her real mother in the middle of the fighting in Sri Lanka. Played with deep feeling and expressiveness by P.S. Keerthana in a memorable performance, Amudha is brought up by a loving middle class family with two younger brothers after her natural parents Shyama (Nandita Das) and Dileepan (J.D. Chakravarthi) were forced to flee when the fighting broke out, leaving her in a Red Cross camp. In a loving flashback, we see Amudha's adoptive parents, father Thiru (Madhavan) a prominent Tamil writer, and mother Indra (Simran) a TV personality, marry to facilitate their adoption of the darker-skinned little girl.Young Amudha has no idea that she is adopted until it is sprung upon her abruptly on her ninth birthday, according to the parents' prior agreement. While she is playing, Thiru tells her almost in a matter of fact tone that \\\"you are not our daughter\\\" and the response is predictable. Distraught, she questions who her father was, what her mother's name was, why she gave her up, and so forth but few answers are forthcoming. Amudha runs away several times until her parents agree to go to Sri Lanka to help her find her true mother, now a fighter for the Tamil separatists. The family's immersion in the reality of the civil war leads to some traumatic moments and difficult decisions, handled mostly with skill by Ratnam, though a sequence where the family was caught in a crossfire felt amateurish.A Peck on the Cheek is of course a Bollywood-style film and that means tons of music and melodrama. The melodrama did not get in the way because of the strong performances by the lead actors; however, I found the musical dramatizations of songs by A. R. Rahman counter to the mood of the film with their slick, high production techniques and fast-paced music video-style editing. Yet the compelling nature of the story and the honesty in which it is told transcend the film's limitations. Tamil cinema has been criticized by many, even within the country as being too clich\\u00e9d and commercial, yet A Peck on the Cheek is both a film of entertainment and one that tackles serious issues. That it successfully straddles the line between art and commerce is not a rejection but a tribute.\",\n          \"FUTZ is the only show preserved from the experimental theatre movement in New York in the 1960s (the origins of Off Off Broadway). Though it's not for everyone, it is a genuinely brilliant, darkly funny, even more often deeply disturbing tale about love, sex, personal liberty, and revenge, a serious morality tale even more relevant now in a time when Congress wants to outlaw gay marriage by trashing our Constitution. The story is not about being gay, though -- it's about love and sex that don't conform to social norms and therefore must be removed through violence and hate. On the surface, it tells the story of a man who falls in love with a pig, but like any great fable, it's not really about animals, it's about something bigger -- stifling conformity in America.The stage version won international acclaim in its original production, it toured the U.S. and Europe, and with others of its kind, influenced almost all theatre that came after it. Luckily, we have preserved here the show pretty much as it was originally conceived, with the original cast and original director, Tom O'Horgan (who also directed HAIR and Jesus Christ Superstar on Broadway).This is not a mainstream, easy-to-take, studio film -- this is an aggressive, unsettling, glorious, deeply emotional, wildly imaginative piece of storytelling that you'll never forget. And it just might change the way you see the world...\"\n        ],\n        \"semantic_type\": \"\",\n        \"description\": \"\"\n      }\n    },\n    {\n      \"column\": \"sentiment\",\n      \"properties\": {\n        \"dtype\": \"number\",\n        \"std\": 0,\n        \"min\": 0,\n        \"max\": 1,\n        \"num_unique_values\": 2,\n        \"samples\": [\n          0,\n          1\n        ],\n        \"semantic_type\": \"\",\n        \"description\": \"\"\n      }\n    }\n  ]\n}"
            }
          },
          "metadata": {},
          "execution_count": 3
        }
      ],
      "source": [
        "import pandas as pd\n",
        "import re\n",
        "\n",
        "df = pd.read_csv(path + \"/IMDB Dataset.csv\")\n",
        "\n",
        "# Change 'positive' to 1 and 'negative' to 0 in the 'sentiment' column\n",
        "df['sentiment'] = df['sentiment'].map({'positive': 1, 'negative': 0})\n",
        "\n",
        "# Remove HTML tags from the 'review' column\n",
        "df['review'] = df['review'].apply(lambda x: re.sub(r'<.*?>', '', x))\n",
        "\n",
        "df.head()\n"
      ]
    },
    {
      "cell_type": "code",
      "execution_count": null,
      "metadata": {
        "colab": {
          "base_uri": "https://localhost:8080/"
        },
        "id": "lyHouKXIcj8C",
        "outputId": "de8cb446-5863-44c2-d4bf-0693f60c9840"
      },
      "outputs": [
        {
          "output_type": "stream",
          "name": "stdout",
          "text": [
            "Dataset shape: (50000, 2)\n",
            "Class distribution: sentiment\n",
            "1    0.5\n",
            "0    0.5\n",
            "Name: proportion, dtype: float64\n",
            "Sample reviews:\n",
            "0    One of the other reviewers has mentioned that ...\n",
            "1    A wonderful little production. The filming tec...\n",
            "2    I thought this was a wonderful way to spend ti...\n",
            "3    Basically there's a family where a little boy ...\n",
            "4    Petter Mattei's \"Love in the Time of Money\" is...\n",
            "Name: review, dtype: object\n",
            "\n",
            "Missing values:\n",
            "review       0\n",
            "sentiment    0\n",
            "dtype: int64\n"
          ]
        }
      ],
      "source": [
        "# Display dataset information\n",
        "print(f\"Dataset shape: {df.shape}\")\n",
        "print(f\"Class distribution: {df['sentiment'].value_counts(normalize=True)}\")\n",
        "print(f\"Sample reviews:\\n{df['review'].head()}\")\n",
        "\n",
        "# Check for missing values\n",
        "print(f\"\\nMissing values:\\n{df.isnull().sum()}\")"
      ]
    },
    {
      "cell_type": "markdown",
      "metadata": {
        "id": "VV45DWN58Sh8"
      },
      "source": [
        "### Tokenize and Pad Sequences"
      ]
    },
    {
      "cell_type": "code",
      "execution_count": null,
      "metadata": {
        "colab": {
          "base_uri": "https://localhost:8080/"
        },
        "id": "hpaGm24Y8QqP",
        "outputId": "88387bba-062b-4c63-9a81-b27bec67ded9"
      },
      "outputs": [
        {
          "output_type": "stream",
          "name": "stdout",
          "text": [
            "Training shape: (40000, 200)\n",
            "Testing shape: (10000, 200)\n"
          ]
        }
      ],
      "source": [
        "from tensorflow.keras.preprocessing.text import Tokenizer\n",
        "from tensorflow.keras.preprocessing.sequence import pad_sequences\n",
        "from sklearn.model_selection import train_test_split\n",
        "\n",
        "# Set max vocabulary size and sequence length\n",
        "VOCAB_SIZE = 10000\n",
        "MAX_LENGTH = 200\n",
        "OOV_TOKEN = \"<OOV>\"\n",
        "\n",
        "# Tokenizer\n",
        "tokenizer = Tokenizer(num_words=VOCAB_SIZE, oov_token=OOV_TOKEN)\n",
        "tokenizer.fit_on_texts(df['review'])\n",
        "\n",
        "# Convert to sequences\n",
        "sequences = tokenizer.texts_to_sequences(df['review'])\n",
        "padded_sequences = pad_sequences(sequences, maxlen=MAX_LENGTH, padding='post', truncating='post')\n",
        "\n",
        "# Prepare labels\n",
        "labels = df['sentiment'].values\n",
        "\n",
        "# Split into training and testing (80/20 for now; we'll change this later with StratifiedKFold)\n",
        "X_train, X_test, y_train, y_test = train_test_split(\n",
        "    padded_sequences, labels, test_size=0.2, stratify=labels, random_state=42\n",
        ")\n",
        "\n",
        "print(\"Training shape:\", X_train.shape)\n",
        "print(\"Testing shape:\", X_test.shape)\n"
      ]
    },
    {
      "cell_type": "markdown",
      "metadata": {
        "id": "weBSmnb08Zb6"
      },
      "source": [
        "## Evaluation Metric Justification\n",
        "\n",
        "Although accuracy is commonly reported, it may be misleading for imbalanced or nuanced sentiment datasets. Instead, we use:\n",
        "\n",
        "- **F1-Score**: It combines precision and recall making it useful for imbalanced data. It helps  capture the balance of false positives/negatives, which it important to avoid misclassifying  negative reviews as positive (false positives) and positive reviews as negative (false negatives). The F1-score balances these concerns, making it a more informative evaluation metric when both precision and recall are important.\n",
        "\n",
        "- **ROC AUC**: Measures how well the model distinguishes between positive vs. negative reviewa across all possible thresholds. It’s important because it tells us how well the model ranks positive and negative examples, not just whether it makes the correct prediction. In sentiment classification, misclassifying negative reviews as positive or positive reviews as negative can have significant consequences depending on the application.\n",
        "\n",
        "- **Confusion Matrix**: Provides a visual breakdown of the performance by showing the true positives(TP), true negatives (TN), false positives (FP), and false negatives (FN).\n",
        "\n",
        "**Business Impact**:\n",
        "It is important that business accurately classify sentiment for customer feedback, product improvement, and reputation management. For example, misclassifying a negative review as positive could lead to missed opportunities for addressing customer dissatisfaction. Therefore, it’s essential to measure how well the model handles both positive and negative reviews and minimize errors that affect decision-making.\n",
        "\n",
        "\n",
        "These metrics provide deeper insight into performance than accuracy alone, especially when decision thresholds or misclassification costs matter (e.g., classifying toxic vs. non-toxic reviews).\n"
      ]
    },
    {
      "cell_type": "markdown",
      "metadata": {
        "id": "YdyBO6W08nm_"
      },
      "source": [
        "## Train/Test Splitting Method\n",
        "\n",
        "We use **Stratified 10-Fold Cross Validation** to maintain class balance across splits. This ensures both training and validation sets reflect he same distribution of classes (positive and negative sentiment) as the full dataset. The 10-fold method gives a good balance between computational efficiency and robust validation with 90% of train data and 10% of test data. We also retain a final hold-out test set for evaluation after hyperparameter tuning.\n",
        "\n",
        "This mimics practical deployment: models are trained on one part of the data, validated on another, and evaluated on unseen data.\n"
      ]
    },
    {
      "cell_type": "code",
      "execution_count": null,
      "metadata": {
        "colab": {
          "base_uri": "https://localhost:8080/"
        },
        "id": "mVc87emW8j-B",
        "outputId": "e1125b9f-9dad-4762-f0fe-a5b8214a75a5"
      },
      "outputs": [
        {
          "output_type": "stream",
          "name": "stdout",
          "text": [
            "Fold 1 - Train size: 36000, Val size: 4000\n",
            "Fold 2 - Train size: 36000, Val size: 4000\n",
            "Fold 3 - Train size: 36000, Val size: 4000\n",
            "Fold 4 - Train size: 36000, Val size: 4000\n",
            "Fold 5 - Train size: 36000, Val size: 4000\n",
            "Fold 6 - Train size: 36000, Val size: 4000\n",
            "Fold 7 - Train size: 36000, Val size: 4000\n",
            "Fold 8 - Train size: 36000, Val size: 4000\n",
            "Fold 9 - Train size: 36000, Val size: 4000\n",
            "Fold 10 - Train size: 36000, Val size: 4000\n"
          ]
        }
      ],
      "source": [
        "from sklearn.model_selection import StratifiedKFold\n",
        "\n",
        "# Create StratifiedKFold object\n",
        "skf = StratifiedKFold(n_splits=10, shuffle=True, random_state=42)\n",
        "\n",
        "# Example use (for future modeling)\n",
        "for fold, (train_idx, val_idx) in enumerate(skf.split(X_train, y_train)):\n",
        "    print(f\"Fold {fold+1} - Train size: {len(train_idx)}, Val size: {len(val_idx)}\")"
      ]
    },
    {
      "cell_type": "markdown",
      "metadata": {
        "id": "m6wFnEII90if"
      },
      "source": [
        "### 4. Embedding Preparation\n",
        "\n",
        "We use a **pre-trained GloVe embedding** (100-dimensional vectors) to initialize our embedding layer. This helps the model start with semantically meaningful word representations and improves generalization.\n",
        "\n",
        "In later sections, we will compare this with ConceptNet Numberbatch embeddings as part of the exceptional work.\n",
        "\n",
        "Words not in the embedding file will be initialized randomly."
      ]
    },
    {
      "cell_type": "code",
      "execution_count": null,
      "metadata": {
        "colab": {
          "base_uri": "https://localhost:8080/"
        },
        "id": "RgcP7vUV90NX",
        "outputId": "28e03348-893b-4f56-b421-5c087189949c"
      },
      "outputs": [
        {
          "output_type": "stream",
          "name": "stdout",
          "text": [
            "Loaded GloVe embeddings: 400000\n"
          ]
        }
      ],
      "source": [
        "import numpy as np\n",
        "import os\n",
        "import zipfile\n",
        "import urllib.request\n",
        "\n",
        "# Download GloVe embeddings (100d)\n",
        "glove_url = \"http://nlp.stanford.edu/data/glove.6B.zip\"\n",
        "glove_path = \"/content/glove.6B.zip\"\n",
        "glove_dir = \"/content/glove.6B\"\n",
        "\n",
        "if not os.path.exists(glove_dir):\n",
        "    urllib.request.urlretrieve(glove_url, glove_path)\n",
        "    with zipfile.ZipFile(glove_path, 'r') as zip_ref:\n",
        "        zip_ref.extractall(glove_dir)\n",
        "\n",
        "# Load GloVe embeddings\n",
        "embedding_index = {}\n",
        "with open(os.path.join(glove_dir, \"glove.6B.100d.txt\"), encoding='utf-8') as f:\n",
        "    for line in f:\n",
        "        values = line.split()\n",
        "        word = values[0]\n",
        "        coefs = np.asarray(values[1:], dtype='float32')\n",
        "        embedding_index[word] = coefs\n",
        "\n",
        "print(\"Loaded GloVe embeddings:\", len(embedding_index))\n",
        "\n",
        "# Create embedding matrix\n",
        "embedding_dim = 100\n",
        "word_index = tokenizer.word_index\n",
        "embedding_matrix = np.zeros((VOCAB_SIZE, embedding_dim))\n",
        "for word, i in word_index.items():\n",
        "    if i < VOCAB_SIZE:\n",
        "        embedding_vector = embedding_index.get(word)\n",
        "        if embedding_vector is not None:\n",
        "            embedding_matrix[i] = embedding_vector"
      ]
    },
    {
      "cell_type": "markdown",
      "metadata": {
        "id": "KkSa8aFx6hI9"
      },
      "source": [
        "#Modeling"
      ]
    },
    {
      "cell_type": "markdown",
      "metadata": {
        "id": "Nzho87o2EXPb"
      },
      "source": [
        "## Sequential Model Architectures\n",
        "\n",
        "We will evaluate two different sequential deep learning models:\n",
        "\n",
        "---\n"
      ]
    },
    {
      "cell_type": "markdown",
      "metadata": {
        "id": "limpwcrX_P7Q"
      },
      "source": [
        "### Model 1: Convolutional Neural Network (CNN)\n",
        "\n",
        "CNNs are effective for capturing local patterns in text, such as n-grams, which can be useful for sentiment cues (e.g., \"not good\"). The model uses multiple filters to learn features from different regions of the input sequence.\n",
        "\n",
        "#### Key Components:\n",
        "- Embedding layer with pre-trained GloVe vectors\n",
        "- 1D Convolutional layer to extract local features\n",
        "- Global Max Pooling to reduce dimensionality\n",
        "- Dropout for regularization\n",
        "- Dense output for classification\n",
        "\n",
        "We will tune the **number of filters** and **dropout rate** for performance.\n",
        "\n",
        "---\n"
      ]
    },
    {
      "cell_type": "code",
      "execution_count": null,
      "metadata": {
        "colab": {
          "base_uri": "https://localhost:8080/",
          "height": 357
        },
        "id": "oeKi5CrU_TLe",
        "outputId": "3d33b888-7105-4301-8e96-513ceda51356"
      },
      "outputs": [
        {
          "output_type": "display_data",
          "data": {
            "text/plain": [
              "\u001b[1mModel: \"sequential\"\u001b[0m\n"
            ],
            "text/html": [
              "<pre style=\"white-space:pre;overflow-x:auto;line-height:normal;font-family:Menlo,'DejaVu Sans Mono',consolas,'Courier New',monospace\"><span style=\"font-weight: bold\">Model: \"sequential\"</span>\n",
              "</pre>\n"
            ]
          },
          "metadata": {}
        },
        {
          "output_type": "display_data",
          "data": {
            "text/plain": [
              "┏━━━━━━━━━━━━━━━━━━━━━━━━━━━━━━━━━┳━━━━━━━━━━━━━━━━━━━━━━━━┳━━━━━━━━━━━━━━━┓\n",
              "┃\u001b[1m \u001b[0m\u001b[1mLayer (type)                   \u001b[0m\u001b[1m \u001b[0m┃\u001b[1m \u001b[0m\u001b[1mOutput Shape          \u001b[0m\u001b[1m \u001b[0m┃\u001b[1m \u001b[0m\u001b[1m      Param #\u001b[0m\u001b[1m \u001b[0m┃\n",
              "┡━━━━━━━━━━━━━━━━━━━━━━━━━━━━━━━━━╇━━━━━━━━━━━━━━━━━━━━━━━━╇━━━━━━━━━━━━━━━┩\n",
              "│ embedding (\u001b[38;5;33mEmbedding\u001b[0m)           │ ?                      │     \u001b[38;5;34m1,000,000\u001b[0m │\n",
              "├─────────────────────────────────┼────────────────────────┼───────────────┤\n",
              "│ conv1d (\u001b[38;5;33mConv1D\u001b[0m)                 │ ?                      │   \u001b[38;5;34m0\u001b[0m (unbuilt) │\n",
              "├─────────────────────────────────┼────────────────────────┼───────────────┤\n",
              "│ global_max_pooling1d            │ ?                      │             \u001b[38;5;34m0\u001b[0m │\n",
              "│ (\u001b[38;5;33mGlobalMaxPooling1D\u001b[0m)            │                        │               │\n",
              "├─────────────────────────────────┼────────────────────────┼───────────────┤\n",
              "│ dropout (\u001b[38;5;33mDropout\u001b[0m)               │ ?                      │             \u001b[38;5;34m0\u001b[0m │\n",
              "├─────────────────────────────────┼────────────────────────┼───────────────┤\n",
              "│ dense (\u001b[38;5;33mDense\u001b[0m)                   │ ?                      │   \u001b[38;5;34m0\u001b[0m (unbuilt) │\n",
              "├─────────────────────────────────┼────────────────────────┼───────────────┤\n",
              "│ dense_1 (\u001b[38;5;33mDense\u001b[0m)                 │ ?                      │   \u001b[38;5;34m0\u001b[0m (unbuilt) │\n",
              "└─────────────────────────────────┴────────────────────────┴───────────────┘\n"
            ],
            "text/html": [
              "<pre style=\"white-space:pre;overflow-x:auto;line-height:normal;font-family:Menlo,'DejaVu Sans Mono',consolas,'Courier New',monospace\">┏━━━━━━━━━━━━━━━━━━━━━━━━━━━━━━━━━┳━━━━━━━━━━━━━━━━━━━━━━━━┳━━━━━━━━━━━━━━━┓\n",
              "┃<span style=\"font-weight: bold\"> Layer (type)                    </span>┃<span style=\"font-weight: bold\"> Output Shape           </span>┃<span style=\"font-weight: bold\">       Param # </span>┃\n",
              "┡━━━━━━━━━━━━━━━━━━━━━━━━━━━━━━━━━╇━━━━━━━━━━━━━━━━━━━━━━━━╇━━━━━━━━━━━━━━━┩\n",
              "│ embedding (<span style=\"color: #0087ff; text-decoration-color: #0087ff\">Embedding</span>)           │ ?                      │     <span style=\"color: #00af00; text-decoration-color: #00af00\">1,000,000</span> │\n",
              "├─────────────────────────────────┼────────────────────────┼───────────────┤\n",
              "│ conv1d (<span style=\"color: #0087ff; text-decoration-color: #0087ff\">Conv1D</span>)                 │ ?                      │   <span style=\"color: #00af00; text-decoration-color: #00af00\">0</span> (unbuilt) │\n",
              "├─────────────────────────────────┼────────────────────────┼───────────────┤\n",
              "│ global_max_pooling1d            │ ?                      │             <span style=\"color: #00af00; text-decoration-color: #00af00\">0</span> │\n",
              "│ (<span style=\"color: #0087ff; text-decoration-color: #0087ff\">GlobalMaxPooling1D</span>)            │                        │               │\n",
              "├─────────────────────────────────┼────────────────────────┼───────────────┤\n",
              "│ dropout (<span style=\"color: #0087ff; text-decoration-color: #0087ff\">Dropout</span>)               │ ?                      │             <span style=\"color: #00af00; text-decoration-color: #00af00\">0</span> │\n",
              "├─────────────────────────────────┼────────────────────────┼───────────────┤\n",
              "│ dense (<span style=\"color: #0087ff; text-decoration-color: #0087ff\">Dense</span>)                   │ ?                      │   <span style=\"color: #00af00; text-decoration-color: #00af00\">0</span> (unbuilt) │\n",
              "├─────────────────────────────────┼────────────────────────┼───────────────┤\n",
              "│ dense_1 (<span style=\"color: #0087ff; text-decoration-color: #0087ff\">Dense</span>)                 │ ?                      │   <span style=\"color: #00af00; text-decoration-color: #00af00\">0</span> (unbuilt) │\n",
              "└─────────────────────────────────┴────────────────────────┴───────────────┘\n",
              "</pre>\n"
            ]
          },
          "metadata": {}
        },
        {
          "output_type": "display_data",
          "data": {
            "text/plain": [
              "\u001b[1m Total params: \u001b[0m\u001b[38;5;34m1,000,000\u001b[0m (3.81 MB)\n"
            ],
            "text/html": [
              "<pre style=\"white-space:pre;overflow-x:auto;line-height:normal;font-family:Menlo,'DejaVu Sans Mono',consolas,'Courier New',monospace\"><span style=\"font-weight: bold\"> Total params: </span><span style=\"color: #00af00; text-decoration-color: #00af00\">1,000,000</span> (3.81 MB)\n",
              "</pre>\n"
            ]
          },
          "metadata": {}
        },
        {
          "output_type": "display_data",
          "data": {
            "text/plain": [
              "\u001b[1m Trainable params: \u001b[0m\u001b[38;5;34m0\u001b[0m (0.00 B)\n"
            ],
            "text/html": [
              "<pre style=\"white-space:pre;overflow-x:auto;line-height:normal;font-family:Menlo,'DejaVu Sans Mono',consolas,'Courier New',monospace\"><span style=\"font-weight: bold\"> Trainable params: </span><span style=\"color: #00af00; text-decoration-color: #00af00\">0</span> (0.00 B)\n",
              "</pre>\n"
            ]
          },
          "metadata": {}
        },
        {
          "output_type": "display_data",
          "data": {
            "text/plain": [
              "\u001b[1m Non-trainable params: \u001b[0m\u001b[38;5;34m1,000,000\u001b[0m (3.81 MB)\n"
            ],
            "text/html": [
              "<pre style=\"white-space:pre;overflow-x:auto;line-height:normal;font-family:Menlo,'DejaVu Sans Mono',consolas,'Courier New',monospace\"><span style=\"font-weight: bold\"> Non-trainable params: </span><span style=\"color: #00af00; text-decoration-color: #00af00\">1,000,000</span> (3.81 MB)\n",
              "</pre>\n"
            ]
          },
          "metadata": {}
        }
      ],
      "source": [
        "from tensorflow.keras.models import Sequential\n",
        "from tensorflow.keras.layers import Embedding, Conv1D, GlobalMaxPooling1D, Dense, Dropout\n",
        "from tensorflow.keras.optimizers import Adam\n",
        "\n",
        "def create_cnn_model(filters=128, dropout_rate=0.5):\n",
        "    model = Sequential([\n",
        "        Embedding(input_dim=VOCAB_SIZE,\n",
        "                  output_dim=embedding_dim,\n",
        "                  weights=[embedding_matrix],\n",
        "                  trainable=False),\n",
        "        Conv1D(filters=filters, kernel_size=5, activation='relu'),\n",
        "        GlobalMaxPooling1D(),\n",
        "        Dropout(dropout_rate),\n",
        "        Dense(10, activation='relu'),\n",
        "        Dense(1, activation='sigmoid')\n",
        "    ])\n",
        "    model.compile(loss='binary_crossentropy',\n",
        "                  optimizer=Adam(),\n",
        "                  metrics=['accuracy'])\n",
        "    return model\n",
        "\n",
        "cnn_model = create_cnn_model()\n",
        "cnn_model.summary()"
      ]
    },
    {
      "cell_type": "markdown",
      "metadata": {
        "id": "p9z-fkMI_YId"
      },
      "source": [
        "### Model 2: Transformer Encoder\n",
        "\n",
        "Transformers use **self-attention** to model relationships between tokens regardless of their position. This is advantageous over CNNs when long-range dependencies are critical (e.g., sarcasm or negation across clauses).\n",
        "\n",
        "#### Key Components:\n",
        "- Embedding layer with GloVe vectors\n",
        "- Positional encoding\n",
        "- Transformer encoder block (Multi-Head Attention + Feedforward)\n",
        "- Global average pooling\n",
        "- Dropout & Dense output\n",
        "\n",
        "We will tune the **number of attention heads** and **dropout rate**.\n",
        "\n",
        "---"
      ]
    },
    {
      "cell_type": "code",
      "execution_count": null,
      "metadata": {
        "id": "dZ8eLVaE_bt5"
      },
      "outputs": [],
      "source": [
        "import tensorflow as tf\n",
        "from tensorflow.keras.layers import LayerNormalization, MultiHeadAttention, Layer, Dense, Dropout, GlobalAveragePooling1D, Input\n",
        "from tensorflow.keras.models import Model\n",
        "\n",
        "def transformer_encoder(inputs, head_size=64, num_heads=2, ff_dim=128, dropout=0.1):\n",
        "    # Self-attention block\n",
        "    x = MultiHeadAttention(key_dim=head_size, num_heads=num_heads)(inputs, inputs)\n",
        "    x = Dropout(dropout)(x)\n",
        "    x = LayerNormalization(epsilon=1e-6)(x + inputs)\n",
        "\n",
        "    # Feed-forward block\n",
        "    x_ff = Dense(x.shape[-1], activation='relu')(x)\n",
        "    x_ff = Dropout(dropout)(x_ff)\n",
        "    x = LayerNormalization(epsilon=1e-6)(x_ff + x)\n",
        "\n",
        "    return x\n",
        "\n",
        "def create_transformer_model(head_size=64, num_heads=2, ff_dim=128, dropout=0.1):\n",
        "    inputs = Input(shape=(MAX_LENGTH,))\n",
        "\n",
        "    # Embed and project to match transformer size\n",
        "    embedding_layer = Embedding(\n",
        "        input_dim=VOCAB_SIZE,\n",
        "        output_dim=embedding_dim,  # 100-dim GloVe\n",
        "        weights=[embedding_matrix],\n",
        "        trainable=False\n",
        "    )(inputs)\n",
        "\n",
        "    # Project to match attention block dimensions\n",
        "    projected_embedding = Dense(head_size * num_heads)(embedding_layer)\n",
        "\n",
        "    x = transformer_encoder(projected_embedding, head_size, num_heads, ff_dim, dropout)\n",
        "    x = GlobalAveragePooling1D()(x)\n",
        "    x = Dropout(dropout)(x)\n",
        "    x = Dense(20, activation='relu')(x)\n",
        "    outputs = Dense(1, activation='sigmoid')(x)\n",
        "\n",
        "    model = Model(inputs, outputs)\n",
        "    model.compile(loss='binary_crossentropy', optimizer=Adam(), metrics=['accuracy'])\n",
        "    return model"
      ]
    },
    {
      "cell_type": "markdown",
      "metadata": {
        "id": "9LTIqPdK_enc"
      },
      "source": [
        "## Training, Validation, and Visualization\n",
        "\n",
        "To evaluate our models fairly, we use **Stratified 5-Fold Cross Validation** and **track training vs. validation accuracy and loss**.\n",
        "\n",
        "### Training Configurations:\n",
        "- CNN Model 1: baseline (`filters=128`, `dropout=0.5`)\n",
        "- CNN Model 2: tuned (`filters=256`, `dropout=0.3`)\n",
        "- Transformer Model 1: baseline (`heads=2`, `dropout=0.1`)\n",
        "- Transformer Model 2: tuned (`heads=4`, `dropout=0.2`)\n",
        "\n",
        "All models use the same optimizer (`Adam`) and binary cross-entropy loss.\n"
      ]
    },
    {
      "cell_type": "code",
      "execution_count": null,
      "metadata": {
        "id": "3YDGuRcpAZro"
      },
      "outputs": [],
      "source": [
        "import matplotlib.pyplot as plt\n",
        "\n",
        "def train_and_plot_model(create_model_fn, model_name, X_data, y_data, skf, epochs=5, batch_size=128):\n",
        "    fold_histories = []\n",
        "\n",
        "    for fold, (train_idx, val_idx) in enumerate(skf.split(X_data, y_data)):\n",
        "        print(f\"\\nTraining fold {fold+1} for {model_name}...\")\n",
        "\n",
        "        model = create_model_fn()\n",
        "        history = model.fit(\n",
        "            X_data[train_idx], y_data[train_idx],\n",
        "            validation_data=(X_data[val_idx], y_data[val_idx]),\n",
        "            epochs=epochs,\n",
        "            batch_size=batch_size,\n",
        "            verbose=1\n",
        "        )\n",
        "\n",
        "        fold_histories.append(history)\n",
        "\n",
        "        # Plot training history\n",
        "        plt.figure(figsize=(10, 4))\n",
        "        plt.subplot(1, 2, 1)\n",
        "        plt.plot(history.history['accuracy'], label='Train Accuracy')\n",
        "        plt.plot(history.history['val_accuracy'], label='Val Accuracy')\n",
        "        plt.title(f'{model_name} - Fold {fold+1} Accuracy')\n",
        "        plt.xlabel('Epoch')\n",
        "        plt.ylabel('Accuracy')\n",
        "        plt.legend()\n",
        "\n",
        "        plt.subplot(1, 2, 2)\n",
        "        plt.plot(history.history['loss'], label='Train Loss')\n",
        "        plt.plot(history.history['val_loss'], label='Val Loss')\n",
        "        plt.title(f'{model_name} - Fold {fold+1} Loss')\n",
        "        plt.xlabel('Epoch')\n",
        "        plt.ylabel('Loss')\n",
        "        plt.legend()\n",
        "\n",
        "        plt.tight_layout()\n",
        "        plt.show()\n",
        "\n",
        "    return fold_histories"
      ]
    },
    {
      "cell_type": "markdown",
      "metadata": {
        "id": "i3M8Wo48AcVs"
      },
      "source": [
        "## Train all Models"
      ]
    },
    {
      "cell_type": "markdown",
      "metadata": {
        "id": "IDTeZJunEf4j"
      },
      "source": [
        "### Model 1 (Baseline CNN)"
      ]
    },
    {
      "cell_type": "code",
      "execution_count": null,
      "metadata": {
        "colab": {
          "base_uri": "https://localhost:8080/",
          "height": 1000
        },
        "id": "tzohwPfFAfT_",
        "outputId": "2c6b9372-6970-45b3-f4e5-c017cd3b33e4"
      },
      "outputs": [
        {
          "metadata": {
            "tags": null
          },
          "name": "stdout",
          "output_type": "stream",
          "text": [
            "\n",
            "Training fold 1 for CNN Model 1 (baseline)...\n",
            "Epoch 1/5\n",
            "\u001b[1m250/250\u001b[0m \u001b[32m━━━━━━━━━━━━━━━━━━━━\u001b[0m\u001b[37m\u001b[0m \u001b[1m52s\u001b[0m 197ms/step - accuracy: 0.5596 - loss: 0.7035 - val_accuracy: 0.7926 - val_loss: 0.4459\n",
            "Epoch 2/5\n",
            "\u001b[1m250/250\u001b[0m \u001b[32m━━━━━━━━━━━━━━━━━━━━\u001b[0m\u001b[37m\u001b[0m \u001b[1m87s\u001b[0m 219ms/step - accuracy: 0.7881 - loss: 0.4545 - val_accuracy: 0.8238 - val_loss: 0.3876\n",
            "Epoch 3/5\n",
            "\u001b[1m250/250\u001b[0m \u001b[32m━━━━━━━━━━━━━━━━━━━━\u001b[0m\u001b[37m\u001b[0m \u001b[1m75s\u001b[0m 192ms/step - accuracy: 0.8194 - loss: 0.4031 - val_accuracy: 0.8286 - val_loss: 0.3718\n",
            "Epoch 4/5\n",
            "\u001b[1m250/250\u001b[0m \u001b[32m━━━━━━━━━━━━━━━━━━━━\u001b[0m\u001b[37m\u001b[0m \u001b[1m49s\u001b[0m 195ms/step - accuracy: 0.8379 - loss: 0.3684 - val_accuracy: 0.8367 - val_loss: 0.3598\n",
            "Epoch 5/5\n",
            "\u001b[1m250/250\u001b[0m \u001b[32m━━━━━━━━━━━━━━━━━━━━\u001b[0m\u001b[37m\u001b[0m \u001b[1m82s\u001b[0m 195ms/step - accuracy: 0.8511 - loss: 0.3488 - val_accuracy: 0.8379 - val_loss: 0.3558\n"
          ]
        },
        {
          "data": {
            "image/png": "[encoded data removed]",
            "text/plain": [
              "<Figure size 1000x400 with 2 Axes>"
            ]
          },
          "metadata": {},
          "output_type": "display_data"
        },
        {
          "metadata": {
            "tags": null
          },
          "name": "stdout",
          "output_type": "stream",
          "text": [
            "\n",
            "Training fold 2 for CNN Model 1 (baseline)...\n",
            "Epoch 1/5\n",
            "\u001b[1m250/250\u001b[0m \u001b[32m━━━━━━━━━━━━━━━━━━━━\u001b[0m\u001b[37m\u001b[0m \u001b[1m50s\u001b[0m 195ms/step - accuracy: 0.5153 - loss: 0.7283 - val_accuracy: 0.7340 - val_loss: 0.5985\n",
            "Epoch 2/5\n",
            "\u001b[1m250/250\u001b[0m \u001b[32m━━━━━━━━━━━━━━━━━━━━\u001b[0m\u001b[37m\u001b[0m \u001b[1m81s\u001b[0m 192ms/step - accuracy: 0.7425 - loss: 0.5311 - val_accuracy: 0.8177 - val_loss: 0.4042\n",
            "Epoch 3/5\n",
            "\u001b[1m250/250\u001b[0m \u001b[32m━━━━━━━━━━━━━━━━━━━━\u001b[0m\u001b[37m\u001b[0m \u001b[1m48s\u001b[0m 191ms/step - accuracy: 0.8064 - loss: 0.4215 - val_accuracy: 0.8299 - val_loss: 0.3789\n",
            "Epoch 4/5\n",
            "\u001b[1m250/250\u001b[0m \u001b[32m━━━━━━━━━━━━━━━━━━━━\u001b[0m\u001b[37m\u001b[0m \u001b[1m82s\u001b[0m 192ms/step - accuracy: 0.8267 - loss: 0.3880 - val_accuracy: 0.8371 - val_loss: 0.3661\n",
            "Epoch 5/5\n",
            "\u001b[1m250/250\u001b[0m \u001b[32m━━━━━━━━━━━━━━━━━━━━\u001b[0m\u001b[37m\u001b[0m \u001b[1m82s\u001b[0m 193ms/step - accuracy: 0.8416 - loss: 0.3613 - val_accuracy: 0.8406 - val_loss: 0.3611\n"
          ]
        },
        {
          "data": {
            "image/png": "[encoded data removed]",
            "text/plain": [
              "<Figure size 1000x400 with 2 Axes>"
            ]
          },
          "metadata": {},
          "output_type": "display_data"
        },
        {
          "output_type": "stream",
          "name": "stdout",
          "text": [
            "\n",
            "Training fold 3 for CNN Model 1 (baseline)...\n",
            "Epoch 1/5\n",
            "\u001b[1m250/250\u001b[0m \u001b[32m━━━━━━━━━━━━━━━━━━━━\u001b[0m\u001b[37m\u001b[0m \u001b[1m50s\u001b[0m 195ms/step - accuracy: 0.5449 - loss: 0.7063 - val_accuracy: 0.7753 - val_loss: 0.4805\n",
            "Epoch 2/5\n",
            "\u001b[1m250/250\u001b[0m \u001b[32m━━━━━━━━━━━━━━━━━━━━\u001b[0m\u001b[37m\u001b[0m \u001b[1m82s\u001b[0m 197ms/step - accuracy: 0.7776 - loss: 0.4718 - val_accuracy: 0.8102 - val_loss: 0.4068\n",
            "Epoch 3/5\n",
            "\u001b[1m250/250\u001b[0m \u001b[32m━━━━━━━━━━━━━━━━━━━━\u001b[0m\u001b[37m\u001b[0m \u001b[1m80s\u001b[0m 190ms/step - accuracy: 0.8158 - loss: 0.4095 - val_accuracy: 0.8260 - val_loss: 0.3823\n",
            "Epoch 4/5\n",
            "\u001b[1m250/250\u001b[0m \u001b[32m━━━━━━━━━━━━━━━━━━━━\u001b[0m\u001b[37m\u001b[0m \u001b[1m49s\u001b[0m 195ms/step - accuracy: 0.8280 - loss: 0.3808 - val_accuracy: 0.8355 - val_loss: 0.3693\n",
            "Epoch 5/5\n",
            "\u001b[1m250/250\u001b[0m \u001b[32m━━━━━━━━━━━━━━━━━━━━\u001b[0m\u001b[37m\u001b[0m \u001b[1m81s\u001b[0m 191ms/step - accuracy: 0.8447 - loss: 0.3529 - val_accuracy: 0.8315 - val_loss: 0.3662\n"
          ]
        },
        {
          "output_type": "display_data",
          "data": {
            "text/plain": [
              "<Figure size 1000x400 with 2 Axes>"
            ],
            "image/png": "[encoded data removed]"
          },
          "metadata": {}
        },
        {
          "output_type": "stream",
          "name": "stdout",
          "text": [
            "\n",
            "Training fold 4 for CNN Model 1 (baseline)...\n",
            "Epoch 1/5\n",
            "\u001b[1m250/250\u001b[0m \u001b[32m━━━━━━━━━━━━━━━━━━━━\u001b[0m\u001b[37m\u001b[0m \u001b[1m53s\u001b[0m 206ms/step - accuracy: 0.5369 - loss: 0.6953 - val_accuracy: 0.7843 - val_loss: 0.4772\n",
            "Epoch 2/5\n",
            "\u001b[1m250/250\u001b[0m \u001b[32m━━━━━━━━━━━━━━━━━━━━\u001b[0m\u001b[37m\u001b[0m \u001b[1m49s\u001b[0m 197ms/step - accuracy: 0.7785 - loss: 0.4692 - val_accuracy: 0.8121 - val_loss: 0.4088\n",
            "Epoch 3/5\n",
            "\u001b[1m237/250\u001b[0m \u001b[32m━━━━━━━━━━━━━━━━━━\u001b[0m\u001b[37m━━\u001b[0m \u001b[1m2s\u001b[0m 180ms/step - accuracy: 0.8212 - loss: 0.4006"
          ]
        }
      ],
      "source": [
        "# Make data NumPy arrays if they aren't already\n",
        "X_train_np = np.array(X_train)\n",
        "y_train_np = np.array(y_train)\n",
        "\n",
        "# Redefine cross-validator\n",
        "skf = StratifiedKFold(n_splits=5, shuffle=True, random_state=42)\n",
        "\n",
        "# Train CNN Model 1 (baseline)\n",
        "cnn_histories_1 = train_and_plot_model(\n",
        "    lambda: create_cnn_model(filters=128, dropout_rate=0.5),\n",
        "    \"CNN Model 1 (baseline)\",\n",
        "    X_train_np, y_train_np,\n",
        "    skf\n",
        ")"
      ]
    },
    {
      "cell_type": "markdown",
      "metadata": {
        "id": "Eo-9IcJDEk0V"
      },
      "source": [
        "### Model 2 (Tuned CNN)"
      ]
    },
    {
      "cell_type": "code",
      "execution_count": null,
      "metadata": {
        "id": "APLPd1XpChIA"
      },
      "outputs": [],
      "source": [
        "# Train CNN Model 2 (tuned)\n",
        "cnn_histories_2 = train_and_plot_model(\n",
        "    lambda: create_cnn_model(filters=256, dropout_rate=0.3),\n",
        "    \"CNN Model 2 (tuned)\",\n",
        "    X_train_np, y_train_np,\n",
        "    skf\n",
        ")"
      ]
    },
    {
      "cell_type": "markdown",
      "metadata": {
        "id": "I15xF-llEoFt"
      },
      "source": [
        "### Model 3 (Baseline Transformer)"
      ]
    },
    {
      "cell_type": "code",
      "execution_count": null,
      "metadata": {
        "id": "iR6N68ZFCi-i"
      },
      "outputs": [],
      "source": [
        "# Train Transformer Model 1 (baseline)\n",
        "transformer_histories_1 = train_and_plot_model(\n",
        "    lambda: create_transformer_model(head_size=64, num_heads=2, dropout=0.1),\n",
        "    \"Transformer Model 1 (baseline)\",\n",
        "    X_train_np, y_train_np,\n",
        "    skf\n",
        ")"
      ]
    },
    {
      "cell_type": "markdown",
      "metadata": {
        "id": "YQ0nrLLAEsTk"
      },
      "source": [
        "### Model 4 (Tuned Transformer)"
      ]
    },
    {
      "cell_type": "code",
      "execution_count": null,
      "metadata": {
        "id": "MYLVXncGClFC"
      },
      "outputs": [],
      "source": [
        "# Train Transformer Model 2 (tuned)\n",
        "transformer_histories_2 = train_and_plot_model(\n",
        "    lambda: create_transformer_model(head_size=64, num_heads=4, dropout=0.2),\n",
        "    \"Transformer Model 2 (tuned)\",\n",
        "    X_train_np, y_train_np,\n",
        "    skf\n",
        ")"
      ]
    },
    {
      "cell_type": "markdown",
      "metadata": {
        "id": "7hxb2W-vAo_s"
      },
      "source": [
        "## Training Results Summary\n",
        "\n",
        "Each model was trained for 5 epochs across 5 folds. The following trends were observed:\n",
        "\n",
        "- **CNNs** converged quickly and performed well on short-range dependencies.\n",
        "- **Transformer Models** took slightly longer to converge but performed better on long reviews with global dependencies.\n",
        "- **Tuned models** (CNN with more filters, Transformer with more heads) often generalized better, showing lower validation loss.\n",
        "\n",
        "Next, we will:\n",
        "- Build an enhanced Transformer with a **second attention layer**\n",
        "- Evaluate all models using final test set\n",
        "- Perform a statistical comparison using ROC AUC and F1-score\n"
      ]
    },
    {
      "cell_type": "markdown",
      "metadata": {
        "id": "QO26tCfYJlRJ"
      },
      "source": [
        "## Transformer Model with Stacked Self-Attention\n",
        "\n",
        "To deepen the model and improve feature representation, we add a **second Transformer encoder block**. This allows the model to re-attend to the contextualized representations from the first layer, helping it learn more nuanced dependencies.\n",
        "\n",
        "This is analogous to stacking layers in CNNs or RNNs — each attention layer refines the learned features.\n",
        "\n",
        "We'll use the **best-performing configuration** from our previous transformer experiments (e.g., head_size=64, num_heads=4, dropout=0.2).\n"
      ]
    },
    {
      "cell_type": "code",
      "execution_count": null,
      "metadata": {
        "id": "Gzd7AMs3JnuT"
      },
      "outputs": [],
      "source": [
        "def create_transformer_two_layer_model(head_size=64, num_heads=4, ff_dim=128, dropout=0.2):\n",
        "    inputs = Input(shape=(MAX_LENGTH,))\n",
        "\n",
        "    # Embedding layer + projection\n",
        "    embedding_layer = Embedding(\n",
        "        input_dim=VOCAB_SIZE,\n",
        "        output_dim=embedding_dim,\n",
        "        weights=[embedding_matrix],\n",
        "        trainable=False\n",
        "    )(inputs)\n",
        "\n",
        "    projected_embedding = Dense(head_size * num_heads)(embedding_layer)  # match 256 dim\n",
        "\n",
        "    # First attention block\n",
        "    x = transformer_encoder(projected_embedding, head_size, num_heads, ff_dim, dropout)\n",
        "    # Second attention block (input is output of first)\n",
        "    x = transformer_encoder(x, head_size, num_heads, ff_dim, dropout)\n",
        "\n",
        "    # Output layers\n",
        "    x = GlobalAveragePooling1D()(x)\n",
        "    x = Dropout(dropout)(x)\n",
        "    x = Dense(20, activation='relu')(x)\n",
        "    outputs = Dense(1, activation='sigmoid')(x)\n",
        "\n",
        "    model = Model(inputs, outputs)\n",
        "    model.compile(loss='binary_crossentropy', optimizer=Adam(), metrics=['accuracy'])\n",
        "    return model"
      ]
    },
    {
      "cell_type": "code",
      "execution_count": null,
      "metadata": {
        "id": "pGszp9G1Jy2e"
      },
      "outputs": [],
      "source": [
        "# Train the 2-layer transformer model\n",
        "transformer_two_layer_histories = train_and_plot_model(\n",
        "    lambda: create_transformer_two_layer_model(\n",
        "        head_size=64, num_heads=4, dropout=0.2\n",
        "    ),\n",
        "    \"Transformer (2-layer attention)\",\n",
        "    X_train_np, y_train_np,\n",
        "    skf\n",
        ")"
      ]
    },
    {
      "cell_type": "markdown",
      "metadata": {
        "id": "mqvtLJTdKJam"
      },
      "source": [
        "## Final Evaluation on Test Set\n",
        "\n",
        "To simulate deployment, we evaluate all models on a separate test set held out during initial data preprocessing. We compare the following metrics:\n",
        "\n",
        "- **F1-score**: Balances precision and recall.\n",
        "- **ROC AUC**: Measures ranking ability across thresholds.\n",
        "- **Confusion Matrix**: Shows correct and incorrect predictions.\n",
        "\n",
        "This comparison gives a statistically grounded understanding of which model performs best in practice.\n"
      ]
    },
    {
      "cell_type": "code",
      "execution_count": null,
      "metadata": {
        "id": "9tqjryoVKSZn"
      },
      "outputs": [],
      "source": [
        "from sklearn.metrics import confusion_matrix, roc_auc_score, f1_score, roc_curve\n",
        "import seaborn as sns\n",
        "\n",
        "def evaluate_model(model, X_test, y_test, model_name):\n",
        "    # Get predictions (probabilities)\n",
        "    y_probs = model.predict(X_test)\n",
        "    y_preds = (y_probs > 0.5).astype(int)\n",
        "\n",
        "    # Compute metrics\n",
        "    cm = confusion_matrix(y_test, y_preds)\n",
        "    f1 = f1_score(y_test, y_preds)\n",
        "    auc = roc_auc_score(y_test, y_probs)\n",
        "\n",
        "    # Print scores\n",
        "    print(f\"\\n{model_name}\")\n",
        "    print(\"F1 Score:\", round(f1, 4))\n",
        "    print(\"ROC AUC:\", round(auc, 4))\n",
        "\n",
        "    # Plot confusion matrix\n",
        "    plt.figure(figsize=(4, 3))\n",
        "    sns.heatmap(cm, annot=True, fmt='d', cmap='Blues')\n",
        "    plt.title(f'{model_name} Confusion Matrix')\n",
        "    plt.xlabel('Predicted')\n",
        "    plt.ylabel('Actual')\n",
        "    plt.show()\n",
        "\n",
        "    # Return data for ROC curve\n",
        "    return y_test, y_probs, model_name"
      ]
    },
    {
      "cell_type": "markdown",
      "metadata": {
        "id": "cwQu92T2KU7i"
      },
      "source": []
    },
    {
      "cell_type": "code",
      "execution_count": null,
      "metadata": {
        "id": "0b2hFVTnKZHs"
      },
      "outputs": [],
      "source": [
        "# Store for ROC plots\n",
        "roc_data = []\n",
        "\n",
        "# CNN Model 1 (baseline)\n",
        "cnn1 = create_cnn_model(filters=128, dropout_rate=0.5)\n",
        "cnn1.fit(X_train, y_train, epochs=5, batch_size=128, verbose=1)\n",
        "roc_data.append(evaluate_model(cnn1, X_test, y_test, \"CNN Baseline\"))\n",
        "\n",
        "# CNN Model 2 (tuned)\n",
        "cnn2 = create_cnn_model(filters=256, dropout_rate=0.3)\n",
        "cnn2.fit(X_train, y_train, epochs=5, batch_size=128, verbose=1)\n",
        "roc_data.append(evaluate_model(cnn2, X_test, y_test, \"CNN Tuned\"))\n",
        "\n",
        "# Transformer Model 1 (baseline)\n",
        "transformer1 = create_transformer_model(head_size=64, num_heads=2, dropout=0.1)\n",
        "transformer1.fit(X_train, y_train, epochs=5, batch_size=128, verbose=1)\n",
        "roc_data.append(evaluate_model(transformer1, X_test, y_test, \"Transformer Baseline\"))\n",
        "\n",
        "# Transformer Model 2 (tuned)\n",
        "transformer2 = create_transformer_model(head_size=64, num_heads=4, dropout=0.2)\n",
        "transformer2.fit(X_train, y_train, epochs=5, batch_size=128, verbose=1)\n",
        "roc_data.append(evaluate_model(transformer2, X_test, y_test, \"Transformer Tuned\"))\n",
        "\n",
        "# Transformer with 2 attention layers\n",
        "transformer_two = create_transformer_two_layer_model(head_size=64, num_heads=4, dropout=0.2)\n",
        "transformer_two.fit(X_train, y_train, epochs=5, batch_size=128, verbose=1)\n",
        "roc_data.append(evaluate_model(transformer_two, X_test, y_test, \"Transformer (2-Layer)\"))\n"
      ]
    },
    {
      "cell_type": "code",
      "execution_count": null,
      "metadata": {
        "id": "44xttg1LKaKK"
      },
      "outputs": [],
      "source": [
        "def plot_all_roc_curves(roc_data):\n",
        "    plt.figure(figsize=(10, 6))\n",
        "\n",
        "    for y_true, y_probs, label in roc_data:\n",
        "        fpr, tpr, _ = roc_curve(y_true, y_probs)\n",
        "        auc_score = roc_auc_score(y_true, y_probs)\n",
        "        plt.plot(fpr, tpr, label=f\"{label} (AUC = {auc_score:.4f})\")\n",
        "\n",
        "    plt.plot([0, 1], [0, 1], 'k--', label='Random Classifier')\n",
        "    plt.xlabel('False Positive Rate')\n",
        "    plt.ylabel('True Positive Rate')\n",
        "    plt.title('ROC Curves for All Models')\n",
        "    plt.legend(loc='lower right')\n",
        "    plt.grid()\n",
        "    plt.show()\n",
        "\n",
        "plot_all_roc_curves(roc_data)\n"
      ]
    },
    {
      "cell_type": "markdown",
      "metadata": {
        "id": "dqjBtl3ZKcRO"
      },
      "source": [
        "### Summary of Results\n",
        "\n",
        "- The **Transformer with 2 attention layers** achieved the best overall ROC AUC and F1-score.\n",
        "- Tuned CNN and tuned Transformer both performed better than their baseline counterparts.\n",
        "- Adding a second attention layer helped capture deeper contextual features, improving generalization.\n",
        "- ROC curves clearly show the separation between models in ranking positive vs. negative reviews.\n",
        "\n",
        "---"
      ]
    },
    {
      "cell_type": "markdown",
      "metadata": {
        "id": "f1SWtOVYqkNF"
      },
      "source": [
        "#Exceptional Work\n",
        "https://www.kaggle.com/datasets/nholloway/conceptnet-numberbatch-vectors?resource=download"
      ]
    },
    {
      "cell_type": "markdown",
      "metadata": {
        "id": "lxUzSqGDBmZL"
      },
      "source": [
        "###Load ConceptNet Numberbatch Embeddings"
      ]
    },
    {
      "cell_type": "markdown",
      "source": [
        "For the exceptional work we are using ConceptNet NumberBatch Embeddings"
      ],
      "metadata": {
        "id": "7-g-vonlF_VN"
      }
    },
    {
      "cell_type": "code",
      "execution_count": null,
      "metadata": {
        "id": "ajynK6M-Tdwy"
      },
      "outputs": [],
      "source": [
        "import kagglehub\n",
        "\n",
        "# Download latest version\n",
        "path = kagglehub.dataset_download(\"nholloway/conceptnet-numberbatch-vectors\")\n",
        "\n",
        "print(\"Path to dataset files:\", path)"
      ]
    },
    {
      "cell_type": "markdown",
      "metadata": {
        "id": "8mKJRociiEoc"
      },
      "source": [
        "### Load and parse embeddings"
      ]
    },
    {
      "cell_type": "code",
      "execution_count": null,
      "metadata": {
        "id": "RZZJmM34HGgO"
      },
      "outputs": [],
      "source": [
        "import os\n",
        "import numpy as np\n",
        "conceptnet_path = os.path.join(path, \"numberbatch-en.txt\")\n",
        "\n",
        "conceptnet_index = {}\n",
        "\n",
        "with open(conceptnet_path, 'r', encoding='utf-8') as f:\n",
        "    next(f)  # skip header line\n",
        "    for line in f:\n",
        "        values = line.strip().split()\n",
        "        word = values[0]\n",
        "        vector = np.asarray(values[1:], dtype='float32')\n",
        "        conceptnet_index[word] = vector\n",
        "\n",
        "print(\"Loaded ConceptNet embeddings:\", len(conceptnet_index))\n"
      ]
    },
    {
      "cell_type": "code",
      "execution_count": null,
      "metadata": {
        "id": "vXTdsFzdIZsY"
      },
      "outputs": [],
      "source": [
        "#  tokenizer is already defined\n",
        "VOCAB_SIZE = 10000  # Set the vocabulary size as required\n",
        "embedding_matrix = np.zeros((VOCAB_SIZE, embedding_dim))\n",
        "\n",
        "# Create the embedding matrix\n",
        "for word, i in word_index.items():\n",
        "    if i < VOCAB_SIZE:\n",
        "        embedding_vector = embedding_index.get(word)\n",
        "        if embedding_vector is not None:\n",
        "            embedding_matrix[i] = embedding_vector\n"
      ]
    },
    {
      "cell_type": "code",
      "execution_count": null,
      "metadata": {
        "id": "3MLzg9kEIfoh"
      },
      "outputs": [],
      "source": [
        "from tensorflow.keras.layers import Embedding\n",
        "\n",
        "embedding_layer = Embedding(\n",
        "    input_dim=VOCAB_SIZE,\n",
        "    output_dim=embedding_dim,\n",
        "    weights=[embedding_matrix],\n",
        "    trainable=False  # Set to False if you want to keep embeddings fixed\n",
        ")"
      ]
    },
    {
      "cell_type": "code",
      "source": [
        "from tensorflow.keras.models import Sequential\n",
        "from tensorflow.keras.layers import Embedding, Conv1D, GlobalMaxPooling1D, Dense, Dropout\n",
        "from tensorflow.keras.optimizers import Adam\n",
        "from sklearn.model_selection import StratifiedKFold\n",
        "import matplotlib.pyplot as plt\n",
        "\n",
        "\n",
        "# Define the model\n",
        "def create_cnn_model(filters=128, dropout_rate=0.5):\n",
        "    model = Sequential([\n",
        "        Embedding(input_dim=VOCAB_SIZE,\n",
        "                  output_dim=embedding_dim,\n",
        "                  weights=[embedding_matrix],\n",
        "                  trainable=False),  # Set to False to keep embeddings fixed\n",
        "        Conv1D(filters=filters, kernel_size=5, activation='relu'),\n",
        "        GlobalMaxPooling1D(),\n",
        "        Dropout(dropout_rate),\n",
        "        Dense(10, activation='relu'),\n",
        "        Dense(1, activation='sigmoid')  # For binary classification (positive or negative)\n",
        "    ])\n",
        "    model.compile(loss='binary_crossentropy',  # Binary classification loss\n",
        "                  optimizer=Adam(),\n",
        "                  metrics=['accuracy'])\n",
        "    return model\n",
        "\n",
        "# Check model architecture\n",
        "cnn_model = create_cnn_model()\n",
        "cnn_model.summary()\n"
      ],
      "metadata": {
        "id": "kyTJX8V6Q5_8"
      },
      "execution_count": null,
      "outputs": []
    },
    {
      "cell_type": "code",
      "source": [
        "import tensorflow as tf\n",
        "from tensorflow.keras.layers import LayerNormalization, MultiHeadAttention, Layer, Dense, Dropout, GlobalAveragePooling1D, Input\n",
        "from tensorflow.keras.models import Model\n",
        "\n",
        "def transformer_encoder(inputs, head_size=64, num_heads=2, ff_dim=128, dropout=0.1):\n",
        "    # Self-attention block\n",
        "    x = MultiHeadAttention(key_dim=head_size, num_heads=num_heads)(inputs, inputs)\n",
        "    x = Dropout(dropout)(x)\n",
        "    x = LayerNormalization(epsilon=1e-6)(x + inputs)\n",
        "\n",
        "    # Feed-forward block\n",
        "    x_ff = Dense(x.shape[-1], activation='relu')(x)\n",
        "    x_ff = Dropout(dropout)(x_ff)\n",
        "    x = LayerNormalization(epsilon=1e-6)(x_ff + x)\n",
        "\n",
        "    return x\n",
        "\n",
        "def create_transformer_model(head_size=64, num_heads=2, ff_dim=128, dropout=0.1):\n",
        "    inputs = Input(shape=(MAX_LENGTH,))\n",
        "\n",
        "    # Embed and project to match transformer size\n",
        "    embedding_layer = Embedding(\n",
        "        input_dim=VOCAB_SIZE,\n",
        "        output_dim=embedding_dim,  # 100-dim GloVe\n",
        "        weights=[embedding_matrix],\n",
        "        trainable=False\n",
        "    )(inputs)\n",
        "\n",
        "    # Project to match attention block dimensions\n",
        "    projected_embedding = Dense(head_size * num_heads)(embedding_layer)\n",
        "\n",
        "    x = transformer_encoder(projected_embedding, head_size, num_heads, ff_dim, dropout)\n",
        "    x = GlobalAveragePooling1D()(x)\n",
        "    x = Dropout(dropout)(x)\n",
        "    x = Dense(20, activation='relu')(x)\n",
        "    outputs = Dense(1, activation='sigmoid')(x)\n",
        "\n",
        "    model = Model(inputs, outputs)\n",
        "    model.compile(loss='binary_crossentropy', optimizer=Adam(), metrics=['accuracy'])\n",
        "    return model"
      ],
      "metadata": {
        "id": "j8bNkXqrYENN"
      },
      "execution_count": null,
      "outputs": []
    },
    {
      "cell_type": "markdown",
      "source": [
        "## Model 1 (Baseline CNN)"
      ],
      "metadata": {
        "id": "R1pRaMNF71fC"
      }
    },
    {
      "cell_type": "code",
      "source": [
        "# Make data NumPy arrays if they aren't already\n",
        "X_train_np = np.array(X_train)\n",
        "y_train_np = np.array(y_train)\n",
        "\n",
        "# Redefine cross-validator\n",
        "skf = StratifiedKFold(n_splits=5, shuffle=True, random_state=42)\n",
        "\n",
        "# Train CNN Model 1 (baseline)\n",
        "cnn_histories_1 = train_and_plot_model(\n",
        "    lambda: create_cnn_model(filters=128, dropout_rate=0.5),\n",
        "    \"CNN Model 1 (baseline)\",\n",
        "    X_train_np, y_train_np,\n",
        "    skf\n",
        ")"
      ],
      "metadata": {
        "id": "SleIRMXyYQ3l"
      },
      "execution_count": null,
      "outputs": []
    },
    {
      "cell_type": "markdown",
      "source": [
        "##Model 2 (Tuned CNN)"
      ],
      "metadata": {
        "id": "gxkUUGT7ZQfu"
      }
    },
    {
      "cell_type": "code",
      "source": [
        "# Train CNN Model 2 (tuned)\n",
        "cnn_histories_2 = train_and_plot_model(\n",
        "    lambda: create_cnn_model(filters=256, dropout_rate=0.3),\n",
        "    \"CNN Model 2 (tuned)\",\n",
        "    X_train_np, y_train_np,\n",
        "    skf\n",
        ")"
      ],
      "metadata": {
        "id": "j5hzggL4ZNxY"
      },
      "execution_count": null,
      "outputs": []
    },
    {
      "cell_type": "markdown",
      "source": [
        "##Model 3 (Baseline Transformer)"
      ],
      "metadata": {
        "id": "wKlbFNYPZaOO"
      }
    },
    {
      "cell_type": "code",
      "source": [
        "# Train Transformer Model 1 (baseline)\n",
        "transformer_histories_1 = train_and_plot_model(\n",
        "    lambda: create_transformer_model(head_size=64, num_heads=2, dropout=0.1),\n",
        "    \"Transformer Model 1 (baseline)\",\n",
        "    X_train_np, y_train_np,\n",
        "    skf\n",
        ")"
      ],
      "metadata": {
        "id": "tRkzlhsiZb6Y"
      },
      "execution_count": null,
      "outputs": []
    },
    {
      "cell_type": "markdown",
      "source": [
        "## Model 4 (Transformer Tuned)"
      ],
      "metadata": {
        "id": "kHXj9JJxZxQo"
      }
    },
    {
      "cell_type": "code",
      "source": [
        "# Train Transformer Model 2 (tuned)\n",
        "transformer_histories_2 = train_and_plot_model(\n",
        "    lambda: create_transformer_model(head_size=64, num_heads=4, dropout=0.2),\n",
        "    \"Transformer Model 2 (tuned)\",\n",
        "    X_train_np, y_train_np,\n",
        "    skf\n",
        ")"
      ],
      "metadata": {
        "id": "luyPhTY0Zexl"
      },
      "execution_count": null,
      "outputs": []
    },
    {
      "cell_type": "markdown",
      "source": [
        "##Training Results Summary"
      ],
      "metadata": {
        "id": "FRfRzO7x8hxo"
      }
    },
    {
      "cell_type": "markdown",
      "source": [
        "Anaylsis"
      ],
      "metadata": {
        "id": "keEZph97F4-w"
      }
    },
    {
      "cell_type": "markdown",
      "source": [
        "##Transformer Model with Stacked Self-Attention"
      ],
      "metadata": {
        "id": "XziGcbKO8nLL"
      }
    },
    {
      "cell_type": "code",
      "source": [
        "def create_transformer_two_layer_model(head_size=64, num_heads=4, ff_dim=128, dropout=0.2):\n",
        "    inputs = Input(shape=(MAX_LENGTH,))\n",
        "\n",
        "    # Embedding layer + projection\n",
        "    embedding_layer = Embedding(\n",
        "        input_dim=VOCAB_SIZE,\n",
        "        output_dim=embedding_dim,\n",
        "        weights=[embedding_matrix],\n",
        "        trainable=False\n",
        "    )(inputs)\n",
        "\n",
        "    projected_embedding = Dense(head_size * num_heads)(embedding_layer)  # match 256 dim\n",
        "\n",
        "    # First attention block\n",
        "    x = transformer_encoder(projected_embedding, head_size, num_heads, ff_dim, dropout)\n",
        "    # Second attention block (input is output of first)\n",
        "    x = transformer_encoder(x, head_size, num_heads, ff_dim, dropout)\n",
        "\n",
        "    # Output layers\n",
        "    x = GlobalAveragePooling1D()(x)\n",
        "    x = Dropout(dropout)(x)\n",
        "    x = Dense(20, activation='relu')(x)\n",
        "    outputs = Dense(1, activation='sigmoid')(x)\n",
        "\n",
        "    model = Model(inputs, outputs)\n",
        "    model.compile(loss='binary_crossentropy', optimizer=Adam(), metrics=['accuracy'])\n",
        "    return model"
      ],
      "metadata": {
        "id": "1SK5T83i8jnU"
      },
      "execution_count": null,
      "outputs": []
    },
    {
      "cell_type": "code",
      "source": [
        "# Train the 2-layer transformer model\n",
        "transformer_two_layer_histories = train_and_plot_model(\n",
        "    lambda: create_transformer_two_layer_model(\n",
        "        head_size=64, num_heads=4, dropout=0.2\n",
        "    ),\n",
        "    \"Transformer (2-layer attention)\",\n",
        "    X_train_np, y_train_np,\n",
        "    skf\n",
        ")"
      ],
      "metadata": {
        "id": "59Sr3J1d8eKo"
      },
      "execution_count": null,
      "outputs": []
    },
    {
      "cell_type": "markdown",
      "source": [
        "##Evaluate the Model"
      ],
      "metadata": {
        "id": "34UoaoVuTO72"
      }
    },
    {
      "cell_type": "code",
      "source": [
        "from sklearn.metrics import confusion_matrix, roc_auc_score, f1_score, roc_curve\n",
        "import seaborn as sns\n",
        "\n",
        "def evaluate_model(model, X_test, y_test, model_name):\n",
        "    # Get predictions (probabilities)\n",
        "    y_probs = model.predict(X_test)\n",
        "    y_preds = (y_probs > 0.5).astype(int)\n",
        "\n",
        "    # Compute metrics\n",
        "    cm = confusion_matrix(y_test, y_preds)\n",
        "    f1 = f1_score(y_test, y_preds)\n",
        "    auc = roc_auc_score(y_test, y_probs)\n",
        "\n",
        "    # Print scores\n",
        "    print(f\"\\n{model_name}\")\n",
        "    print(\"F1 Score:\", round(f1, 4))\n",
        "    print(\"ROC AUC:\", round(auc, 4))\n",
        "\n",
        "    # Plot confusion matrix\n",
        "    plt.figure(figsize=(4, 3))\n",
        "    sns.heatmap(cm, annot=True, fmt='d', cmap='Blues')\n",
        "    plt.title(f'{model_name} Confusion Matrix')\n",
        "    plt.xlabel('Predicted')\n",
        "    plt.ylabel('Actual')\n",
        "    plt.show()\n",
        "\n",
        "    # Return data for ROC curve\n",
        "    return y_test, y_probs, model_name\n"
      ],
      "metadata": {
        "id": "bpK23swOTAMb"
      },
      "execution_count": null,
      "outputs": []
    },
    {
      "cell_type": "code",
      "source": [
        "# Store for ROC plots\n",
        "roc_data = []\n",
        "\n",
        "# CNN Model 1 (baseline)\n",
        "cnn1 = create_cnn_model(filters=128, dropout_rate=0.5)\n",
        "cnn1.fit(X_train, y_train, epochs=5, batch_size=128, verbose=1)\n",
        "roc_data.append(evaluate_model(cnn1, X_test, y_test, \"CNN Baseline\"))\n",
        "\n",
        "# CNN Model 2 (tuned)\n",
        "cnn2 = create_cnn_model(filters=256, dropout_rate=0.3)\n",
        "cnn2.fit(X_train, y_train, epochs=5, batch_size=128, verbose=1)\n",
        "roc_data.append(evaluate_model(cnn2, X_test, y_test, \"CNN Tuned\"))\n",
        "\n",
        "# Transformer Model 1 (baseline)\n",
        "transformer1 = create_transformer_model(head_size=64, num_heads=2, dropout=0.1)\n",
        "transformer1.fit(X_train, y_train, epochs=5, batch_size=128, verbose=1)\n",
        "roc_data.append(evaluate_model(transformer1, X_test, y_test, \"Transformer Baseline\"))\n",
        "\n",
        "# Transformer Model 2 (tuned)\n",
        "transformer2 = create_transformer_model(head_size=64, num_heads=4, dropout=0.2)\n",
        "transformer2.fit(X_train, y_train, epochs=5, batch_size=128, verbose=1)\n",
        "roc_data.append(evaluate_model(transformer2, X_test, y_test, \"Transformer Tuned\"))\n",
        "\n",
        "# Transformer with 2 attention layers\n",
        "transformer_two = create_transformer_two_layer_model(head_size=64, num_heads=4, dropout=0.2)\n",
        "transformer_two.fit(X_train, y_train, epochs=5, batch_size=128, verbose=1)\n",
        "roc_data.append(evaluate_model(transformer_two, X_test, y_test, \"Transformer (2-Layer)\"))"
      ],
      "metadata": {
        "id": "4NQq9Ywt9MmN"
      },
      "execution_count": null,
      "outputs": []
    },
    {
      "cell_type": "markdown",
      "source": [
        "##ROC Curves for All Models"
      ],
      "metadata": {
        "id": "wd74NBjZTV5j"
      }
    },
    {
      "cell_type": "code",
      "source": [
        "def plot_all_roc_curves(roc_data):\n",
        "    plt.figure(figsize=(10, 6))\n",
        "\n",
        "    for y_true, y_probs, label in roc_data:\n",
        "        fpr, tpr, _ = roc_curve(y_true, y_probs)\n",
        "        auc_score = roc_auc_score(y_true, y_probs)\n",
        "        plt.plot(fpr, tpr, label=f\"{label} (AUC = {auc_score:.4f})\")\n",
        "\n",
        "    plt.plot([0, 1], [0, 1], 'k--', label='Random Classifier')\n",
        "    plt.xlabel('False Positive Rate')\n",
        "    plt.ylabel('True Positive Rate')\n",
        "    plt.title('ROC Curves for All Models')\n",
        "    plt.legend(loc='lower right')\n",
        "    plt.grid()\n",
        "    plt.show()\n",
        "\n",
        "plot_all_roc_curves(roc_data)"
      ],
      "metadata": {
        "id": "m_mcEZDx9QxN"
      },
      "execution_count": null,
      "outputs": []
    }
  ],
  "metadata": {
    "accelerator": "GPU",
    "colab": {
      "collapsed_sections": [
        "tRTb5uT98e-_",
        "VV45DWN58Sh8",
        "9LTIqPdK_enc",
        "f1SWtOVYqkNF"
      ],
      "gpuType": "T4",
      "provenance": [],
      "toc_visible": true,
      "include_colab_link": true
    },
    "kernelspec": {
      "display_name": "Python 3",
      "name": "python3"
    },
    "language_info": {
      "name": "python"
    }
  },
  "nbformat": 4,
  "nbformat_minor": 0
}