{
  "cells": [
    {
      "cell_type": "markdown",
      "metadata": {
        "id": "view-in-github",
        "colab_type": "text"
      },
      "source": [
        "<a href=\"https://colab.research.google.com/github/cammylexi/CS2341-Assignment-3/blob/main/ICA3_MachineLearning.ipynb\" target=\"_parent\"><img src=\"https://colab.research.google.com/assets/colab-badge.svg\" alt=\"Open In Colab\"/></a>"
      ]
    },
    {
      "cell_type": "code",
      "execution_count": null,
      "metadata": {
        "colab": {
          "base_uri": "https://localhost:8080/",
          "height": 17
        },
        "id": "TbZT5SjEtbMW",
        "outputId": "4d48d4fe-8045-4933-aa05-113bd9b769a0"
      },
      "outputs": [
        {
          "output_type": "execute_result",
          "data": {
            "text/plain": [
              "<IPython.core.display.HTML object>"
            ],
            "text/html": [
              "<link href='https://fonts.googleapis.com/css?family=Passion+One' rel='stylesheet' type='text/css'><style>div.attn { font-family: 'Helvetica Neue'; font-size: 30px; line-height: 40px; color: #FFFFFF; text-align: center; margin: 30px 0; border-width: 10px 0; border-style: solid; border-color: #5AAAAA; padding: 30px 0; background-color: #DDDDFF; }hr { border: 0; background-color: #ffffff; border-top: 1px solid black; }hr.major { border-top: 10px solid #5AAA5A; }hr.minor { border: none; background-color: #ffffff; border-top: 5px dotted #CC3333; }div.bubble { width: 65%; padding: 20px; background: #DDDDDD; border-radius: 15px; margin: 0 auto; font-style: italic; color: #f00; }em { color: #AAA; }div.c1{visibility:hidden;margin:0;height:0;}div.note{color:red;}</style>"
            ]
          },
          "metadata": {},
          "execution_count": 2
        }
      ],
      "source": [
        "#  Ebnable HTML/CSS\n",
        "from IPython.core.display import HTML\n",
        "HTML(\"<link href='https://fonts.googleapis.com/css?family=Passion+One' rel='stylesheet' type='text/css'><style>div.attn { font-family: 'Helvetica Neue'; font-size: 30px; line-height: 40px; color: #FFFFFF; text-align: center; margin: 30px 0; border-width: 10px 0; border-style: solid; border-color: #5AAAAA; padding: 30px 0; background-color: #DDDDFF; }hr { border: 0; background-color: #ffffff; border-top: 1px solid black; }hr.major { border-top: 10px solid #5AAA5A; }hr.minor { border: none; background-color: #ffffff; border-top: 5px dotted #CC3333; }div.bubble { width: 65%; padding: 20px; background: #DDDDDD; border-radius: 15px; margin: 0 auto; font-style: italic; color: #f00; }em { color: #AAA; }div.c1{visibility:hidden;margin:0;height:0;}div.note{color:red;}</style>\")"
      ]
    },
    {
      "cell_type": "markdown",
      "metadata": {
        "id": "_PL2B63OtbMZ"
      },
      "source": [
        "___\n",
        "Enter Team Member Names here (*double click to edit*):\n",
        "\n",
        "- Name 1: Camryn McPhaul\n",
        "- Name 2: Michael Llanes\n",
        "- Name 3:\n",
        "\n",
        "___"
      ]
    },
    {
      "cell_type": "markdown",
      "metadata": {
        "id": "W9Yv5VTstbMa"
      },
      "source": [
        "# In Class Assignment Three\n",
        "In the following assignment you will be asked to fill in python code and derivations for a number of different problems. Please read all instructions carefully and turn in the rendered notebook (or HTML of the rendered notebook)  before the end of class (or right after class). The initial portion of this notebook is given before class and the remainder is given during class. Please answer the initial questions before class, to the best of your ability. Once class has started you may rework your answers as a team for the initial part of the assignment.\n",
        "\n",
        "<a id=\"top\"></a>\n",
        "## Contents\n",
        "* <a href=\"#LoadingKDD\">Loading KDDCup Data</a>\n",
        "* <a href=\"#kdd_eval\">KDDCup Evaluation and Cross Validation</a>\n",
        "* <a href=\"#data_snooping\">More Cross Validation</a>\n",
        "* <a href=\"#stats\">Statistical Comparison</a>\n",
        "\n",
        "**Before coming to class**, please make sure you have the latest version of `scikit-learn`. This notebook was created for version 0.18 and higher.\n",
        "\n",
        "________________________________________________________________________________________________________\n",
        "\n",
        "<a id=\"LoadingKDD\"></a>\n",
        "<a href=\"#top\">Back to Top</a>\n",
        "## Loading KDDCup Data\n",
        "\n",
        "Please run the following code to read in the \"KDD Cup\" dataset from sklearn's data loading module. It consists of examples of different simulated attacks for the 1998 DARPA Intrusion Detection System (IDS).\n",
        "\n",
        "This will load the data into the variable `ds`. `ds` is a `bunch` object with fields like `ds.data` and `ds.target`. The field `ds.data` is a numpy matrix of the continuous features in the dataset. **The object is not a pandas dataframe. It is a numpy matrix.** Each row is a set of observed instances, each column is a different feature. It also has a field called `ds.target` that is an integer value we are trying to predict (i.e., a specific integer represents a specific person). Each entry in `ds.target` is a label for each row of the `ds.data` matrix."
      ]
    },
    {
      "cell_type": "code",
      "execution_count": 2,
      "metadata": {
        "colab": {
          "base_uri": "https://localhost:8080/"
        },
        "id": "SgxF4aBftbMb",
        "outputId": "ae7a0311-5e2e-407a-8917-366374fd4e15"
      },
      "outputs": [
        {
          "output_type": "stream",
          "name": "stdout",
          "text": [
            "Sklearn Version: 1.6.1\n"
          ]
        }
      ],
      "source": [
        "# fetch the dataset\n",
        "from sklearn.datasets import  fetch_kddcup99\n",
        "from sklearn import __version__ as sklearn_version\n",
        "\n",
        "print('Sklearn Version:',sklearn_version)\n",
        "ds =  fetch_kddcup99(subset='http')"
      ]
    },
    {
      "cell_type": "code",
      "execution_count": 3,
      "metadata": {
        "colab": {
          "base_uri": "https://localhost:8080/"
        },
        "id": "DhLOv07WtbMb",
        "outputId": "395fc60b-94b2-4b1b-aa24-2f10041dfb1a"
      },
      "outputs": [
        {
          "output_type": "stream",
          "name": "stdout",
          "text": [
            "n_samples: 58725\n",
            "n_features: 3\n",
            "n_classes: 2\n"
          ]
        }
      ],
      "source": [
        "import numpy as np\n",
        "# get some of the specifics of the dataset\n",
        "X = ds.data\n",
        "y = np.array(ds.target != b'normal.')\n",
        "y = y.astype(int)\n",
        "\n",
        "n_samples, n_features = X.shape\n",
        "n_classes = len(np.unique(y))\n",
        "\n",
        "print(\"n_samples: {}\".format(n_samples))\n",
        "print(\"n_features: {}\".format(n_features))\n",
        "print(\"n_classes: {}\".format(n_classes))"
      ]
    },
    {
      "cell_type": "markdown",
      "metadata": {
        "id": "R0MO1zgktbMb"
      },
      "source": [
        "___\n",
        "**Question 1:** How many instances are in the binary classification problem loaded above? How many instances are in each class? **Plot a pie chart or bar chart of the number of instances in each of the classes.**"
      ]
    },
    {
      "cell_type": "code",
      "execution_count": 7,
      "metadata": {
        "colab": {
          "base_uri": "https://localhost:8080/"
        },
        "id": "uEcVoDp8tbMc",
        "outputId": "4f9ade14-4986-4122-bb74-82284e6d430e"
      },
      "outputs": [
        {
          "output_type": "stream",
          "name": "stdout",
          "text": [
            "Number of instances in each class: [56516  2209]\n"
          ]
        },
        {
          "output_type": "execute_result",
          "data": {
            "text/plain": [
              "array([56516,  2209])"
            ]
          },
          "metadata": {},
          "execution_count": 7
        }
      ],
      "source": [
        "from matplotlib import pyplot as plt\n",
        "%matplotlib inline\n",
        "plt.style.use('ggplot')\n",
        "\n",
        "#=== Fill in code below========\n",
        "class_counts = np.bincount(y) # data imbalance problem [the regular, non normal]'\n",
        "\n",
        "print('Number of instances in each class:', class_counts)\n",
        "# you might be interested in the functions:\n",
        "#np.bincount(y)\n"
      ]
    },
    {
      "cell_type": "markdown",
      "metadata": {
        "id": "AbVgnjMZtbMc"
      },
      "source": [
        "<a id=\"kdd_eval\"></a>\n",
        "<a href=\"#top\">Back to Top</a>\n",
        "## KDDCup Evaluation and Cross Validation\n",
        "Look at the following code that trains a model using 10-fold cross validation. You can also run this code to see the outputs. Then answer the question below it.\n",
        "\n",
        "You might also be interested in the following graphic:\n",
        "- https://en.wikipedia.org/wiki/Precision_and_recall#/media/File:Precisionrecall.svg\n",
        "\n",
        "And the following:\n",
        "$$ Precision = \\frac{TP}{TP+FP} $$\n",
        "\n",
        "and\n",
        "\n",
        "$$ Recall = \\frac{TP}{TP+FN} $$\n",
        "\n",
        "and\n",
        "\n",
        "$$ F_1 = 2\\cdot\\frac{Precision\\cdot Recall}{Precision + Recall} $$\n",
        "\n",
        "and a new score that you might like to look at:\n",
        "\n",
        "$$ F_{\\beta} = (1+\\beta^2)\\cdot\\frac{Precision\\cdot Recall}{\\beta^2\\cdot Precision + Recall} $$"
      ]
    },
    {
      "cell_type": "code",
      "execution_count": 8,
      "metadata": {
        "colab": {
          "base_uri": "https://localhost:8080/",
          "height": 452
        },
        "id": "UvQfbc1atbMc",
        "outputId": "1dafab63-aa1a-436a-be10-71cde31b49f7"
      },
      "outputs": [
        {
          "output_type": "execute_result",
          "data": {
            "text/plain": [
              "(0.9894891008174387, 1.0)"
            ]
          },
          "metadata": {},
          "execution_count": 8
        },
        {
          "output_type": "display_data",
          "data": {
            "text/plain": [
              "<Figure size 640x480 with 1 Axes>"
            ],
            "image/png": "[encoded data removed]"
          },
          "metadata": {}
        }
      ],
      "source": [
        "# false negative, false positive, etc.\n",
        "\n",
        "from sklearn.model_selection import cross_val_score\n",
        "from sklearn.model_selection import KFold, ShuffleSplit\n",
        "from sklearn.model_selection import StratifiedKFold, StratifiedShuffleSplit\n",
        "\n",
        "from sklearn.metrics import make_scorer, accuracy_score\n",
        "from sklearn.metrics import precision_score, recall_score, f1_score\n",
        "\n",
        "from sklearn.linear_model import LogisticRegression\n",
        "\n",
        "# select model\n",
        "clf = LogisticRegression()\n",
        "#select cross validation\n",
        "cv = KFold(n_splits=10) ## testing different spilts 9 of them as training one of them for testing|\n",
        "# select evaluation criteria\n",
        "my_scorer = make_scorer(accuracy_score) # using accuracy\n",
        "# run model training and cross validation\n",
        "per_fold_eval_criteria = cross_val_score(estimator=clf,\n",
        "                                    X=X,\n",
        "                                    y=y,\n",
        "                                    cv=cv,\n",
        "                                    scoring=my_scorer\n",
        "                                   )\n",
        "plt.bar(range(len(per_fold_eval_criteria)),per_fold_eval_criteria)\n",
        "plt.ylim([min(per_fold_eval_criteria)-0.01,max(per_fold_eval_criteria)])"
      ]
    },
    {
      "cell_type": "markdown",
      "metadata": {
        "id": "zJWd628CtbMd"
      },
      "source": [
        "____\n",
        "**Question 2** Is the code above a proper separation of training and testing sets for the given dataset (i.e., using KFold)? Why or why not?"
      ]
    },
    {
      "cell_type": "markdown",
      "metadata": {
        "id": "6iSCKgn6tbMd"
      },
      "source": [
        "\n",
        "\n",
        "*Enter your answer here (double click)*\n",
        "\n",
        "*Yes or No and why*\n",
        "\n",
        "No, Stratified k-fold would be a better approach because it ensures that the data is split with the same distribution from each class in every fold.\n",
        "\n",
        "Using K-Fold would bring a risk of uneven distribution in a split, which could introduce biases into the data.\n",
        "\n",
        "\n",
        "___"
      ]
    },
    {
      "cell_type": "markdown",
      "metadata": {
        "id": "-Zh_xkbGtbMd"
      },
      "source": [
        "**Question 3:** Is the evaluation metric chosen in the above code appropriate for the dataset (i.e., using accuracy)? Why or Why not?"
      ]
    },
    {
      "cell_type": "markdown",
      "metadata": {
        "id": "ZJi8ml4_tbMd"
      },
      "source": [
        "*Enter your answer here (double click)*\n",
        "\n",
        "*Yes or No and why*\n",
        "\n",
        "No, accuracy would not be appropriate because if your model is biased or incorrectly predicting certain outcomes, it may still show high accuracy, even though the predictions are wrong. This can lead to misleading results, as the model could be providing incorrect predictions but still appear to perform well based on accuracy alone.\n",
        "\n",
        "\n",
        "___"
      ]
    },
    {
      "cell_type": "markdown",
      "metadata": {
        "id": "FPvObtDHtbMd"
      },
      "source": [
        "**Exercise 1:** If the code above is not a proper separation of the train or does not use the proper evaluation criteria, fix the code in the block below to use appropriate train/test separation and appropriate evaluation criterion (criteria). **Mark changes in the code with comments.**"
      ]
    },
    {
      "cell_type": "code",
      "execution_count": null,
      "metadata": {
        "colab": {
          "base_uri": "https://localhost:8080/",
          "height": 452
        },
        "id": "50IUYOrNtbMe",
        "outputId": "3a491633-cf00-42f9-8400-148440329756"
      },
      "outputs": [
        {
          "output_type": "execute_result",
          "data": {
            "text/plain": [
              "(0.9854545454545455, 1.0)"
            ]
          },
          "metadata": {},
          "execution_count": 10
        },
        {
          "output_type": "display_data",
          "data": {
            "text/plain": [
              "<Figure size 640x480 with 1 Axes>"
            ],
            "image/png": "[encoded data removed]"
          },
          "metadata": {}
        }
      ],
      "source": [
        "from sklearn.model_selection import cross_val_score\n",
        "from sklearn.model_selection import KFold, ShuffleSplit\n",
        "from sklearn.model_selection import StratifiedKFold, StratifiedShuffleSplit\n",
        "\n",
        "from sklearn.metrics import make_scorer, accuracy_score\n",
        "from sklearn.metrics import precision_score, recall_score, f1_score\n",
        "\n",
        "from sklearn.linear_model import LogisticRegression\n",
        "# these imports above might help you\n",
        "\n",
        "#=====Write your code below here=================\n",
        "# select model\n",
        "clf = LogisticRegression()\n",
        "#select cross validation\n",
        "cv = StratifiedKFold(n_splits=10, shuffle= True)  # shuffled the data\n",
        "# select evaluation criteria\n",
        "my_scorer = make_scorer(f1_score)\n",
        "# run model training and cross validation\n",
        "per_fold_eval_criteria = cross_val_score(estimator=clf,\n",
        "                                    X=X,\n",
        "                                    y=y,\n",
        "                                    cv=cv,\n",
        "                                    scoring=my_scorer\n",
        "                                   )\n",
        "\n",
        "plt.bar(range(len(per_fold_eval_criteria)),per_fold_eval_criteria)\n",
        "plt.ylim([min(per_fold_eval_criteria)-0.01,max(per_fold_eval_criteria)])"
      ]
    },
    {
      "cell_type": "markdown",
      "metadata": {
        "id": "tfGMPlgvtbMf"
      },
      "source": [
        "____\n",
        "**Question 4**: Does the learning algorithm perform well based on the evaluation criteria? Why or why not, based on the way the system will be used?\n",
        "\n"
      ]
    },
    {
      "cell_type": "markdown",
      "metadata": {
        "id": "Z5JHgwQ0tbMf"
      },
      "source": [
        "\n",
        "*Enter you answer here (double click to edit)*\n",
        "\n",
        "\n",
        "\n",
        "\n",
        "___"
      ]
    },
    {
      "cell_type": "markdown",
      "metadata": {
        "id": "No7K_Km0tbMf"
      },
      "source": [
        "\n",
        "<a id=\"data_snooping\"></a>\n",
        "<a href=\"#top\">Back to Top</a>\n",
        "\n",
        "## More Cross Validation\n",
        "\n",
        "**Exercise 2:** Does the code below contain any errors in the implementation of the cross validation? If so, explain the errors in the space provided below and then fix the code below so that there are no longer any errors in the cross validation."
      ]
    },
    {
      "cell_type": "markdown",
      "metadata": {
        "id": "niW5lmvKtbMf"
      },
      "source": [
        "\n",
        "*Explain any cross validation errors here (double click to edit)*"
      ]
    },
    {
      "cell_type": "code",
      "execution_count": null,
      "metadata": {
        "id": "i4cKqf-ztbMf",
        "outputId": "7b1bf939-0cb5-4050-8626-f054df475137"
      },
      "outputs": [
        {
          "data": {
            "text/plain": [
              "(0.648208446866485, 0.9962534059945504)"
            ]
          },
          "execution_count": 12,
          "metadata": {},
          "output_type": "execute_result"
        },
        {
          "data": {
            "image/png": "[encoded data removed]",
            "text/plain": [
              "<Figure size 432x288 with 1 Axes>"
            ]
          },
          "metadata": {},
          "output_type": "display_data"
        }
      ],
      "source": [
        "from sklearn.decomposition import PCA\n",
        "from sklearn.preprocessing import StandardScaler\n",
        "from sklearn.pipeline import Pipeline\n",
        "\n",
        "\n",
        "#======If there are errors, fix them below======\n",
        "n_components = 1\n",
        "pca = PCA(n_components=n_components) ## extracts pattern from the data| don't do the model first\n",
        "Xpca = pca.fit_transform(X)\n",
        "\n",
        "clf = Pipeline([('scl',StandardScaler()),\n",
        "                ('clf',LogisticRegression()), ('pca', PCA())])\n",
        "\n",
        "per_fold_eval_criteria = cross_val_score(estimator=clf,\n",
        "                                    X=X,\n",
        "                                    y=y,\n",
        "                                    cv=cv,\n",
        "                                    scoring=my_scorer\n",
        "                                   )\n",
        "\n",
        "plt.bar(range(len(per_fold_eval_criteria)),per_fold_eval_criteria)\n",
        "plt.ylim([min(per_fold_eval_criteria)-0.01,max(per_fold_eval_criteria)])\n",
        "\n",
        "# =====fixed code======\n",
        "# write the fixed code (if needed) below\n"
      ]
    },
    {
      "cell_type": "markdown",
      "metadata": {
        "id": "PTixbMf-tbMg"
      },
      "source": [
        "___\n",
        "\n",
        "# Circumstances Change\n",
        "For this question, the circumstances for the DARPA KDD99 cup are changed in the following way:\n",
        "- When the model for detecting attacks is deployed, we now think that it will often need to be retrained because new attacks will emerge.\n",
        " - DARPA anticipates that there will be a handful of different style attacks on their systems that have never been seen before. To detect these new attacks, they are employing programmers and analysts to find them manually every day.\n",
        " - DARPA believes the perpetrators of these new attacks are more sophisticated, so finding the new attacks will take priority over detecting the older, known attacks.\n",
        "- DARPA wants to use your learning algorithm for detecting only these new attacks. However, they tell you that the amount of training data for the new attacks will be extremely small. That is, the analysts can only identify a handful of new style attacks each day (so you will only have about 3-5 examples of the attacks for training).\n",
        "- **DARPA asks you: Do you think its a good idea to employ retraining your model each day to find these new attacks?** They need an answer in the next 20 minutes.  \n",
        "\n",
        "**Question 5**: How would you change the method of cross validation to answer this question from DARPA? That is, how can you change your cross validation method to better mirror how your system will be used and deployed by DARPA when there are only 3-5 attack examples available for training? *Note: you do not have access to these new training examples. You need to change you cross validation method with the existing data to answer this question.*"
      ]
    },
    {
      "cell_type": "markdown",
      "metadata": {
        "id": "CzrxDJ0OtbMg"
      },
      "source": [
        "*Enter your answer here (double click)*\n",
        "\n",
        "*We could... and why*\n",
        "___"
      ]
    },
    {
      "cell_type": "code",
      "execution_count": null,
      "metadata": {
        "id": "Wua7H6VJtbMg"
      },
      "outputs": [],
      "source": [
        "#plotting function for use in next question\n",
        "# takes input 'test_scores', axis labels, and an x-axis label\n",
        "def plot_filled(test_scores,train_x_axis, xlabel=''):\n",
        "\n",
        "    test_mean = np.percentile(test_scores,50, axis=1)\n",
        "    test_max = np.percentile(test_scores,95, axis=1)\n",
        "    test_min = np.percentile(test_scores,5, axis=1)\n",
        "\n",
        "    plt.plot(train_x_axis, test_mean,\n",
        "             color='blue', linestyle='--',\n",
        "             marker='s', markersize=5,\n",
        "             label='validation set')\n",
        "\n",
        "    plt.fill_between(train_x_axis,\n",
        "                     test_min,\n",
        "                     test_max,\n",
        "                     alpha=0.15, color='blue')\n",
        "\n",
        "    plt.grid(True)\n",
        "    plt.xlabel(xlabel)\n",
        "    plt.ylabel('Evaluation Criterion')\n",
        "    plt.legend(loc='lower right')\n",
        "    plt.tight_layout()"
      ]
    },
    {
      "cell_type": "markdown",
      "metadata": {
        "id": "dD0JrDewtbMg"
      },
      "source": [
        "___\n",
        "DARPA is also concerned about how much training data they will need from the analysts in order to have a high performing model. They would like to use the current dataset to help answer that question. The code below is written for you to help answer DARPA's question about how many examples will be needed for training. Examine the code and the output (please rerun with your evaluation criteria), then answer the following question:\n",
        "\n",
        "**Question 6**: Based on the analysis graphed below, how many positive examples are required to have a good tradeoff between bias and variance for the given evaluation criteria? Why? *Note: the x-axis really is a percentage, so the value 0.1 is actually 0.1%.*"
      ]
    },
    {
      "cell_type": "code",
      "execution_count": null,
      "metadata": {
        "id": "nzOF0S0-tbMg",
        "outputId": "84d3815d-7b84-491e-8826-4ad0efef40d7"
      },
      "outputs": [
        {
          "data": {
            "image/png": "[encoded data removed]",
            "text/plain": [
              "<Figure size 432x288 with 1 Axes>"
            ]
          },
          "metadata": {},
          "output_type": "display_data"
        }
      ],
      "source": [
        "clf = LogisticRegression()\n",
        "\n",
        "test_scores = []\n",
        "train_sizes=np.linspace(5e-4,5e-3,10)\n",
        "\n",
        "for size in train_sizes:\n",
        "    cv = StratifiedShuffleSplit(n_splits=100,\n",
        "                                train_size = size,\n",
        "                                test_size = 1-size,\n",
        "                               )\n",
        "    test_scores.append(cross_val_score(estimator=clf,X=X,y=y,cv=cv,scoring=my_scorer))\n",
        "\n",
        "plot_filled(np.array(test_scores), train_sizes*100, 'Percentage training data (%), Range 0-100')"
      ]
    },
    {
      "cell_type": "markdown",
      "metadata": {
        "id": "ZoKN_YnjtbMh"
      },
      "source": [
        "___\n",
        "*Enter you answer here (double click)*\n",
        "\n",
        "*It seems that ...*\n",
        "___"
      ]
    },
    {
      "cell_type": "markdown",
      "metadata": {
        "id": "C9ceVf7NtbMh"
      },
      "source": [
        "___\n",
        "<a id=\"stats\"></a>\n",
        "<a href=\"#top\">Back to Top</a>\n",
        "\n",
        "# Statistical Comparison\n",
        "Now lets create a few different models and see if any of them have statistically better performances.\n",
        "\n",
        "We are creating three different classifiers below to compare to one another. For creating different training and testing splits, we are using stratified shuffle splits on the datasets.\n",
        "\n"
      ]
    },
    {
      "cell_type": "code",
      "execution_count": null,
      "metadata": {
        "id": "L-CVDcPStbMi"
      },
      "outputs": [],
      "source": [
        "clf1 = LogisticRegression(C=100)\n",
        "clf2 = LogisticRegression(C=1)\n",
        "clf3 = LogisticRegression(C=0.1)\n",
        "\n",
        "train_size = 0.003 # small training size\n",
        "cv = StratifiedShuffleSplit(n_splits=10,train_size=train_size,test_size=1-train_size)\n",
        "\n",
        "evals1 = cross_val_score(estimator=clf1,X=X,y=y,scoring=my_scorer,cv=cv)\n",
        "evals2 = cross_val_score(estimator=clf2,X=X,y=y,scoring=my_scorer,cv=cv)\n",
        "evals3 = cross_val_score(estimator=clf3,X=X,y=y,scoring=my_scorer,cv=cv)"
      ]
    },
    {
      "cell_type": "markdown",
      "metadata": {
        "id": "DUvm2wcotbMi"
      },
      "source": [
        "**Question 7**: Given the code above, what statistical test is more appropriate for selecting confidence intervals, and **why**? Your options are:\n",
        "- **A**: approximating the evaluation criterion as a binomial distribution and bounding by the variance (the first option we used in the flipped lecture video)\n",
        "- **B**: approximating the bounds using the folds of the cross validation to get mean and variance (the second option we used in the flipped lecture video)\n",
        "- **C**: Either are acceptable statistical tests for obtaining confidence intervals"
      ]
    },
    {
      "cell_type": "markdown",
      "metadata": {
        "id": "VD_IDW8MtbMi"
      },
      "source": [
        "*Enter you answer here (double click)*\n",
        "\n",
        "*The reason that I think (A or B or C) is correct is because...*\n",
        "___"
      ]
    },
    {
      "cell_type": "markdown",
      "metadata": {
        "id": "IIzu0a80tbMi"
      },
      "source": [
        "___\n",
        "**Final Exercise:** With 95% confidence, perform the statistical test that you selected above. Is any model or set of models statistically the best performer(s)? Or can we not say if the models are different with greater than 95% confidence?\n",
        "\n",
        "If you chose option A, use a multiplier of Z=1.96. The number of instances used in testing can be calculated from the variable `train_size`.\n",
        "\n",
        "If you chose option B, use a multiplier of t=2.26 and k=10."
      ]
    },
    {
      "cell_type": "code",
      "execution_count": null,
      "metadata": {
        "id": "f1bxB01rtbMi",
        "outputId": "7980076e-514e-44c6-8a84-defb08b75ae1"
      },
      "outputs": [
        {
          "name": "stdout",
          "output_type": "stream",
          "text": [
            "Model ??? has statistically the best XXX with 95% confidence\n"
          ]
        }
      ],
      "source": [
        "#===================================================\n",
        "# Enter your code below\n",
        "\n",
        "\n",
        "\n",
        "print('Model ??? has statistically the best XXX with 95% confidence')\n",
        "#==================================================="
      ]
    },
    {
      "cell_type": "markdown",
      "metadata": {
        "id": "DsTvbp1VtbMj"
      },
      "source": [
        "________________________________________________________________________________________________________\n",
        "\n",
        "That's all! Please **save (make sure you saved!!!) and upload your rendered notebook** and please include **team member names** in the notebook submission."
      ]
    }
  ],
  "metadata": {
    "anaconda-cloud": {},
    "kernelspec": {
      "display_name": "Python 3 (ipykernel)",
      "language": "python",
      "name": "python3"
    },
    "language_info": {
      "codemirror_mode": {
        "name": "ipython",
        "version": 3
      },
      "file_extension": ".py",
      "mimetype": "text/x-python",
      "name": "python",
      "nbconvert_exporter": "python",
      "pygments_lexer": "ipython3",
      "version": "3.11.5"
    },
    "colab": {
      "provenance": [],
      "include_colab_link": true
    }
  },
  "nbformat": 4,
  "nbformat_minor": 0
}